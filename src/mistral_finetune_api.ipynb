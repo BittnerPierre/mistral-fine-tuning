{
 "cells": [
  {
   "cell_type": "markdown",
   "metadata": {
    "id": "urSaPCZoqEmM"
   },
   "source": [
    "# Mistral Fine-tuning API\n",
    "\n",
    "Check out the docs: https://docs.mistral.ai/capabilities/finetuning/"
   ]
  },
  {
   "cell_type": "code",
   "execution_count": null,
   "metadata": {},
   "outputs": [],
   "source": [
    "#!pip install mistralai pandas"
   ]
  },
  {
   "cell_type": "markdown",
   "metadata": {
    "id": "27PpM60GqRvR"
   },
   "source": [
    "## Prepare the dataset\n",
    "\n",
    "In this example, let’s use the ultrachat_200k dataset. We load a chunk of the data into Pandas Dataframes, split the data into training and validation, and save the data into the required jsonl format for fine-tuning."
   ]
  },
  {
   "cell_type": "code",
   "execution_count": 1,
   "metadata": {
    "id": "MUBRITvX59kC"
   },
   "outputs": [],
   "source": [
    "import pandas as pd\n",
    "df = pd.read_parquet('https://huggingface.co/datasets/HuggingFaceH4/ultrachat_200k/resolve/main/data/test_gen-00000-of-00001-3d4cd8309148a71f.parquet')\n",
    "\n",
    "df_train=df.sample(frac=0.995,random_state=200)\n",
    "df_eval=df.drop(df_train.index)\n",
    "\n",
    "df_train.to_json(\"ultrachat_chunk_train.jsonl\", orient=\"records\", lines=True)\n",
    "df_eval.to_json(\"ultrachat_chunk_eval.jsonl\", orient=\"records\", lines=True)"
   ]
  },
  {
   "cell_type": "code",
   "execution_count": 2,
   "metadata": {
    "colab": {
     "base_uri": "https://localhost:8080/"
    },
    "id": "S1Pv9zx96CR5",
    "outputId": "e412c365-5887-423a-83b0-1a65b6294ba2"
   },
   "outputs": [
    {
     "name": "stdout",
     "output_type": "stream",
     "text": [
      "total 301840\n",
      "-rw-r--r--   1 pierrebittner  staff   3,4K 21 jui 15:15 Step 2 - synthetize news.py\n",
      "-rw-r--r--   1 pierrebittner  staff   1,7K 21 jui 15:07 Step 3 - critique.py\n",
      "-rw-r--r--   1 pierrebittner  staff   5,9K 21 jui 15:14 Step 4 - specific-style.py\n",
      "-rw-r--r--   1 pierrebittner  staff   6,5K 19 jui 16:19 Untitled.ipynb\n",
      "drwxr-xr-x   5 pierrebittner  staff   160B 21 jui 15:07 \u001b[34m__pycache__\u001b[m\u001b[m\n",
      "-rw-r--r--   1 pierrebittner  staff   1,1K 21 jui 15:53 concatenate.py\n",
      "drwxr-xr-x  19 pierrebittner  staff   608B 21 jui 15:53 \u001b[34mdata\u001b[m\u001b[m\n",
      "-rw-r--r--@  1 pierrebittner  staff    48K 19 jui 15:52 mistral_finetune_api.ipynb\n",
      "-rw-r--r--   1 pierrebittner  staff    40K 21 jui 16:10 mistral_finetune_api_news.ipynb\n",
      "-rw-r--r--   1 pierrebittner  staff   5,1K 21 jui 16:07 news_chunk_eval.jsonl\n",
      "-rw-r--r--   1 pierrebittner  staff   1,2M 21 jui 16:07 news_chunk_train.jsonl\n",
      "-rw-r--r--   1 pierrebittner  staff   447B 21 jui 11:29 prompts.py\n",
      "-rw-r--r--   1 pierrebittner  staff   3,3K 19 jui 11:53 reformat_data.py\n",
      "-rw-r--r--   1 pierrebittner  staff   3,3K 19 jui 11:59 reformat_data.py.1\n",
      "-rw-r--r--   1 pierrebittner  staff   3,3K 19 jui 14:56 reformat_data.py.2\n",
      "-rw-r--r--   1 pierrebittner  staff   3,3K 19 jui 15:33 reformat_data.py.3\n",
      "-rw-r--r--   1 pierrebittner  staff   3,3K 19 jui 15:41 reformat_data.py.4\n",
      "drwxr-xr-x   4 pierrebittner  staff   128B 21 jui 13:28 \u001b[34mtests\u001b[m\u001b[m\n",
      "-rw-r--r--   1 pierrebittner  staff   4,4K 21 jui 13:33 to_jsonl.py\n",
      "-rw-r--r--   1 pierrebittner  staff   697K 21 jui 16:11 ultrachat_chunk_eval.jsonl\n",
      "-rw-r--r--   1 pierrebittner  staff   145M 21 jui 16:11 ultrachat_chunk_train.jsonl\n",
      "-rw-r--r--   1 pierrebittner  staff   2,7K 21 jui 15:05 utils.py\n"
     ]
    }
   ],
   "source": [
    "!ls -lh"
   ]
  },
  {
   "cell_type": "markdown",
   "metadata": {
    "id": "dVfIMwgUJF91"
   },
   "source": [
    "## Reformat dataset\n",
    "If you upload this ultrachat_chunk_train.jsonl to Mistral API, you might encounter an error message “Invalid file format” due to data formatting issues. To reformat the data into the correct format, you can download the reformat_dataset.py script and use it to validate and reformat both the training and evaluation data:"
   ]
  },
  {
   "cell_type": "code",
   "execution_count": 3,
   "metadata": {
    "colab": {
     "base_uri": "https://localhost:8080/"
    },
    "id": "kaLd2n726tAI",
    "outputId": "edb440bc-bc60-40ae-e284-4869812b037e"
   },
   "outputs": [
    {
     "name": "stdout",
     "output_type": "stream",
     "text": [
      "--2024-06-19 15:41:11--  https://raw.githubusercontent.com/mistralai/mistral-finetune/main/utils/reformat_data.py\n",
      "Résolution de raw.githubusercontent.com (raw.githubusercontent.com)… 185.199.110.133, 185.199.109.133, 185.199.108.133, ...\n",
      "Connexion à raw.githubusercontent.com (raw.githubusercontent.com)|185.199.110.133|:443… connecté.\n",
      "requête HTTP transmise, en attente de la réponse… 200 OK\n",
      "Taille : 3381 (3,3K) [text/plain]\n",
      "Sauvegarde en : « reformat_data.py.4 »\n",
      "\n",
      "reformat_data.py.4  100%[===================>]   3,30K  --.-KB/s    ds 0,001s  \n",
      "\n",
      "2024-06-19 15:41:11 (5,14 MB/s) — « reformat_data.py.4 » sauvegardé [3381/3381]\n",
      "\n"
     ]
    }
   ],
   "source": [
    "# download the validation and reformat script\n",
    "!wget https://raw.githubusercontent.com/mistralai/mistral-finetune/main/utils/reformat_data.py"
   ]
  },
  {
   "cell_type": "code",
   "execution_count": 3,
   "metadata": {
    "colab": {
     "base_uri": "https://localhost:8080/"
    },
    "id": "QvLwYwfl6vfc",
    "outputId": "bef86874-67fa-4758-a633-1a6e17854b63"
   },
   "outputs": [
    {
     "name": "stdout",
     "output_type": "stream",
     "text": [
      "Skipped 3674th sample\n",
      "Skipped 9176th sample\n",
      "Skipped 10559th sample\n",
      "Skipped 13293th sample\n",
      "Skipped 13973th sample\n",
      "Skipped 15219th sample\n"
     ]
    }
   ],
   "source": [
    "# validate and reformat the training data\n",
    "!python reformat_data.py ultrachat_chunk_train.jsonl"
   ]
  },
  {
   "cell_type": "code",
   "execution_count": 4,
   "metadata": {
    "id": "gOKqvJMM6kgU"
   },
   "outputs": [],
   "source": [
    "# validate the reformat the eval data\n",
    "!python reformat_data.py ultrachat_chunk_eval.jsonl"
   ]
  },
  {
   "cell_type": "code",
   "execution_count": 5,
   "metadata": {
    "colab": {
     "base_uri": "https://localhost:8080/"
    },
    "id": "XO3RVA197Ont",
    "outputId": "19063479-6745-48b8-b694-79896ac2486d"
   },
   "outputs": [
    {
     "data": {
      "text/plain": [
       "array([{'content': 'What are the dimensions of the cavity, product, and shipping box of the Sharp SMC1662DS microwave?: With innovative features like preset controls, Sensor Cooking and the Carousel® turntable system, the Sharp® SMC1662DS 1.6 cu. Ft. Stainless Steel Carousel Countertop Microwave makes reheating your favorite foods, snacks and beverages easier than ever. Use popcorn and beverage settings for one-touch cooking. Express Cook allows one-touch cooking up to six minutes. The convenient and flexible \"+30 Sec\" key works as both instant start option and allows you to add more time during cooking.\\nThe Sharp SMC1662DS microwave is a bold design statement in any kitchen. The elegant, grey interior and bright white, LED interior lighting complements the stainless steel finish of this premium appliance.\\nCavity Dimensions (w x h x d): 15.5\" x 10.2\" x 17.1\"\\nProduct Dimensions (w x h x d): 21.8\" x 12.8\" x 17.7\"\\nShipping Dimensions (w x h x d) : 24.4\" x 15.0\" x 20.5\"', 'role': 'user'},\n",
       "       {'content': '', 'role': 'assistant'},\n",
       "       {'content': 'Can you help me find out the weight of the Sharp SMC1662DS microwave?', 'role': 'user'},\n",
       "       {'content': 'Yes, the weight of the Sharp SMC1662DS microwave is 36.4 pounds.', 'role': 'assistant'},\n",
       "       {'content': 'Can you tell me if the Sharp SMC1662DS microwave comes with a warranty?', 'role': 'user'},\n",
       "       {'content': 'Yes, the Sharp SMC1662DS microwave comes with a warranty. It has a 1-year limited warranty on parts and labor, a 4-year limited warranty on the magnetron tube, and an 8-year limited warranty on the magnetron tube for certain models. You should check the warranty details provided in the manual for complete information.', 'role': 'assistant'},\n",
       "       {'content': 'Can you remind me of the innovative features of the Sharp SMC1662DS microwave?', 'role': 'user'}],\n",
       "      dtype=object)"
      ]
     },
     "execution_count": 5,
     "metadata": {},
     "output_type": "execute_result"
    }
   ],
   "source": [
    "df_train.iloc[3674]['messages']"
   ]
  },
  {
   "cell_type": "markdown",
   "metadata": {
    "id": "hu_oLukAJect"
   },
   "source": [
    "## Upload dataset"
   ]
  },
  {
   "cell_type": "code",
   "execution_count": 6,
   "metadata": {
    "id": "B0UlO1Qa7xi3"
   },
   "outputs": [],
   "source": [
    "import os\n",
    "from mistralai.client import MistralClient\n",
    "\n",
    "api_key = os.environ.get(\"MISTRAL_API_KEY\")\n",
    "client = MistralClient(api_key=api_key)\n",
    "\n",
    "with open(\"ultrachat_chunk_train.jsonl\", \"rb\") as f:\n",
    "    ultrachat_chunk_train = client.files.create(file=(\"ultrachat_chunk_train.jsonl\", f))\n",
    "with open(\"ultrachat_chunk_eval.jsonl\", \"rb\") as f:\n",
    "    ultrachat_chunk_eval = client.files.create(file=(\"ultrachat_chunk_eval.jsonl\", f))"
   ]
  },
  {
   "cell_type": "code",
   "execution_count": 7,
   "metadata": {
    "id": "ChnYoKhoapES"
   },
   "outputs": [],
   "source": [
    "import json\n",
    "def pprint(obj):\n",
    "    print(json.dumps(obj.dict(), indent=4))"
   ]
  },
  {
   "cell_type": "code",
   "execution_count": 8,
   "metadata": {
    "colab": {
     "base_uri": "https://localhost:8080/"
    },
    "id": "rIAJdJIc9g2q",
    "outputId": "f5fc042e-8c06-473b-a616-536a0c6dd30c"
   },
   "outputs": [
    {
     "name": "stdout",
     "output_type": "stream",
     "text": [
      "{\n",
      "    \"id\": \"d04b7515-f54a-4400-abf6-029edb170df1\",\n",
      "    \"object\": \"file\",\n",
      "    \"bytes\": 121379382,\n",
      "    \"created_at\": 1718979213,\n",
      "    \"filename\": \"ultrachat_chunk_train.jsonl\",\n",
      "    \"purpose\": \"fine-tune\"\n",
      "}\n"
     ]
    }
   ],
   "source": [
    "pprint(ultrachat_chunk_train)"
   ]
  },
  {
   "cell_type": "code",
   "execution_count": 9,
   "metadata": {
    "colab": {
     "base_uri": "https://localhost:8080/"
    },
    "id": "5uA-Xnp1RTmx",
    "outputId": "ac0bdaba-4af1-4f19-a8ab-dd19482b1943"
   },
   "outputs": [
    {
     "name": "stdout",
     "output_type": "stream",
     "text": [
      "{\n",
      "    \"id\": \"22ae7d95-1bcd-4665-a1f3-ff7c7c550be3\",\n",
      "    \"object\": \"file\",\n",
      "    \"bytes\": 596255,\n",
      "    \"created_at\": 1718979215,\n",
      "    \"filename\": \"ultrachat_chunk_eval.jsonl\",\n",
      "    \"purpose\": \"fine-tune\"\n",
      "}\n"
     ]
    }
   ],
   "source": [
    "pprint(ultrachat_chunk_eval)"
   ]
  },
  {
   "cell_type": "markdown",
   "metadata": {
    "id": "DqchXMeXJi6U"
   },
   "source": [
    "## Create a fine-tuning job"
   ]
  },
  {
   "cell_type": "code",
   "execution_count": 10,
   "metadata": {
    "id": "x9Qk42ADRVKo"
   },
   "outputs": [],
   "source": [
    "from mistralai.models.jobs import TrainingParameters\n",
    "\n",
    "created_jobs = client.jobs.create(\n",
    "    model=\"open-mistral-7b\",\n",
    "    training_files=[ultrachat_chunk_train.id],\n",
    "    validation_files=[ultrachat_chunk_eval.id],\n",
    "    hyperparameters=TrainingParameters(\n",
    "        training_steps=10,\n",
    "        learning_rate=0.0001,\n",
    "        )\n",
    ")"
   ]
  },
  {
   "cell_type": "code",
   "execution_count": 11,
   "metadata": {
    "colab": {
     "base_uri": "https://localhost:8080/"
    },
    "id": "bkZlYvwGanL1",
    "outputId": "396cd040-643b-4296-b026-bb3589df44de"
   },
   "outputs": [
    {
     "name": "stdout",
     "output_type": "stream",
     "text": [
      "{\n",
      "    \"id\": \"2ef2bee4-3134-4908-ba95-95f0947ebed0\",\n",
      "    \"hyperparameters\": {\n",
      "        \"training_steps\": 10,\n",
      "        \"learning_rate\": 0.0001\n",
      "    },\n",
      "    \"fine_tuned_model\": null,\n",
      "    \"model\": \"open-mistral-7b\",\n",
      "    \"status\": \"QUEUED\",\n",
      "    \"job_type\": \"FT\",\n",
      "    \"created_at\": 1718979336,\n",
      "    \"modified_at\": 1718979336,\n",
      "    \"training_files\": [\n",
      "        \"d04b7515-f54a-4400-abf6-029edb170df1\"\n",
      "    ],\n",
      "    \"validation_files\": [\n",
      "        \"22ae7d95-1bcd-4665-a1f3-ff7c7c550be3\"\n",
      "    ],\n",
      "    \"object\": \"job\",\n",
      "    \"integrations\": []\n",
      "}\n"
     ]
    }
   ],
   "source": [
    "pprint(created_jobs)"
   ]
  },
  {
   "cell_type": "code",
   "execution_count": 12,
   "metadata": {
    "colab": {
     "base_uri": "https://localhost:8080/"
    },
    "id": "OQXIE2G3c-Ds",
    "outputId": "83b955b3-5666-4b23-abbe-fa4dbe0ec676"
   },
   "outputs": [
    {
     "name": "stdout",
     "output_type": "stream",
     "text": [
      "{\n",
      "    \"id\": \"2ef2bee4-3134-4908-ba95-95f0947ebed0\",\n",
      "    \"hyperparameters\": {\n",
      "        \"training_steps\": 10,\n",
      "        \"learning_rate\": 0.0001\n",
      "    },\n",
      "    \"fine_tuned_model\": null,\n",
      "    \"model\": \"open-mistral-7b\",\n",
      "    \"status\": \"RUNNING\",\n",
      "    \"job_type\": \"FT\",\n",
      "    \"created_at\": 1718979336,\n",
      "    \"modified_at\": 1718979339,\n",
      "    \"training_files\": [\n",
      "        \"d04b7515-f54a-4400-abf6-029edb170df1\"\n",
      "    ],\n",
      "    \"validation_files\": [\n",
      "        \"22ae7d95-1bcd-4665-a1f3-ff7c7c550be3\"\n",
      "    ],\n",
      "    \"object\": \"job\",\n",
      "    \"integrations\": [],\n",
      "    \"events\": [\n",
      "        {\n",
      "            \"name\": \"status-updated\",\n",
      "            \"data\": {\n",
      "                \"status\": \"RUNNING\"\n",
      "            },\n",
      "            \"created_at\": 1718979339\n",
      "        },\n",
      "        {\n",
      "            \"name\": \"status-updated\",\n",
      "            \"data\": {\n",
      "                \"status\": \"QUEUED\"\n",
      "            },\n",
      "            \"created_at\": 1718979336\n",
      "        }\n",
      "    ],\n",
      "    \"checkpoints\": [],\n",
      "    \"estimated_start_time\": null\n",
      "}\n",
      "Job is RUNNING, waiting 10 seconds\n",
      "{\n",
      "    \"id\": \"2ef2bee4-3134-4908-ba95-95f0947ebed0\",\n",
      "    \"hyperparameters\": {\n",
      "        \"training_steps\": 10,\n",
      "        \"learning_rate\": 0.0001\n",
      "    },\n",
      "    \"fine_tuned_model\": null,\n",
      "    \"model\": \"open-mistral-7b\",\n",
      "    \"status\": \"RUNNING\",\n",
      "    \"job_type\": \"FT\",\n",
      "    \"created_at\": 1718979336,\n",
      "    \"modified_at\": 1718979339,\n",
      "    \"training_files\": [\n",
      "        \"d04b7515-f54a-4400-abf6-029edb170df1\"\n",
      "    ],\n",
      "    \"validation_files\": [\n",
      "        \"22ae7d95-1bcd-4665-a1f3-ff7c7c550be3\"\n",
      "    ],\n",
      "    \"object\": \"job\",\n",
      "    \"integrations\": [],\n",
      "    \"events\": [\n",
      "        {\n",
      "            \"name\": \"status-updated\",\n",
      "            \"data\": {\n",
      "                \"status\": \"RUNNING\"\n",
      "            },\n",
      "            \"created_at\": 1718979339\n",
      "        },\n",
      "        {\n",
      "            \"name\": \"status-updated\",\n",
      "            \"data\": {\n",
      "                \"status\": \"QUEUED\"\n",
      "            },\n",
      "            \"created_at\": 1718979336\n",
      "        }\n",
      "    ],\n",
      "    \"checkpoints\": [],\n",
      "    \"estimated_start_time\": null\n",
      "}\n",
      "Job is RUNNING, waiting 10 seconds\n",
      "{\n",
      "    \"id\": \"2ef2bee4-3134-4908-ba95-95f0947ebed0\",\n",
      "    \"hyperparameters\": {\n",
      "        \"training_steps\": 10,\n",
      "        \"learning_rate\": 0.0001\n",
      "    },\n",
      "    \"fine_tuned_model\": null,\n",
      "    \"model\": \"open-mistral-7b\",\n",
      "    \"status\": \"RUNNING\",\n",
      "    \"job_type\": \"FT\",\n",
      "    \"created_at\": 1718979336,\n",
      "    \"modified_at\": 1718979339,\n",
      "    \"training_files\": [\n",
      "        \"d04b7515-f54a-4400-abf6-029edb170df1\"\n",
      "    ],\n",
      "    \"validation_files\": [\n",
      "        \"22ae7d95-1bcd-4665-a1f3-ff7c7c550be3\"\n",
      "    ],\n",
      "    \"object\": \"job\",\n",
      "    \"integrations\": [],\n",
      "    \"events\": [\n",
      "        {\n",
      "            \"name\": \"status-updated\",\n",
      "            \"data\": {\n",
      "                \"status\": \"RUNNING\"\n",
      "            },\n",
      "            \"created_at\": 1718979339\n",
      "        },\n",
      "        {\n",
      "            \"name\": \"status-updated\",\n",
      "            \"data\": {\n",
      "                \"status\": \"QUEUED\"\n",
      "            },\n",
      "            \"created_at\": 1718979336\n",
      "        }\n",
      "    ],\n",
      "    \"checkpoints\": [],\n",
      "    \"estimated_start_time\": null\n",
      "}\n",
      "Job is RUNNING, waiting 10 seconds\n",
      "{\n",
      "    \"id\": \"2ef2bee4-3134-4908-ba95-95f0947ebed0\",\n",
      "    \"hyperparameters\": {\n",
      "        \"training_steps\": 10,\n",
      "        \"learning_rate\": 0.0001\n",
      "    },\n",
      "    \"fine_tuned_model\": null,\n",
      "    \"model\": \"open-mistral-7b\",\n",
      "    \"status\": \"RUNNING\",\n",
      "    \"job_type\": \"FT\",\n",
      "    \"created_at\": 1718979336,\n",
      "    \"modified_at\": 1718979339,\n",
      "    \"training_files\": [\n",
      "        \"d04b7515-f54a-4400-abf6-029edb170df1\"\n",
      "    ],\n",
      "    \"validation_files\": [\n",
      "        \"22ae7d95-1bcd-4665-a1f3-ff7c7c550be3\"\n",
      "    ],\n",
      "    \"object\": \"job\",\n",
      "    \"integrations\": [],\n",
      "    \"events\": [\n",
      "        {\n",
      "            \"name\": \"status-updated\",\n",
      "            \"data\": {\n",
      "                \"status\": \"RUNNING\"\n",
      "            },\n",
      "            \"created_at\": 1718979339\n",
      "        },\n",
      "        {\n",
      "            \"name\": \"status-updated\",\n",
      "            \"data\": {\n",
      "                \"status\": \"QUEUED\"\n",
      "            },\n",
      "            \"created_at\": 1718979336\n",
      "        }\n",
      "    ],\n",
      "    \"checkpoints\": [],\n",
      "    \"estimated_start_time\": null\n",
      "}\n",
      "Job is RUNNING, waiting 10 seconds\n",
      "{\n",
      "    \"id\": \"2ef2bee4-3134-4908-ba95-95f0947ebed0\",\n",
      "    \"hyperparameters\": {\n",
      "        \"training_steps\": 10,\n",
      "        \"learning_rate\": 0.0001\n",
      "    },\n",
      "    \"fine_tuned_model\": null,\n",
      "    \"model\": \"open-mistral-7b\",\n",
      "    \"status\": \"RUNNING\",\n",
      "    \"job_type\": \"FT\",\n",
      "    \"created_at\": 1718979336,\n",
      "    \"modified_at\": 1718979339,\n",
      "    \"training_files\": [\n",
      "        \"d04b7515-f54a-4400-abf6-029edb170df1\"\n",
      "    ],\n",
      "    \"validation_files\": [\n",
      "        \"22ae7d95-1bcd-4665-a1f3-ff7c7c550be3\"\n",
      "    ],\n",
      "    \"object\": \"job\",\n",
      "    \"integrations\": [],\n",
      "    \"events\": [\n",
      "        {\n",
      "            \"name\": \"status-updated\",\n",
      "            \"data\": {\n",
      "                \"status\": \"RUNNING\"\n",
      "            },\n",
      "            \"created_at\": 1718979339\n",
      "        },\n",
      "        {\n",
      "            \"name\": \"status-updated\",\n",
      "            \"data\": {\n",
      "                \"status\": \"QUEUED\"\n",
      "            },\n",
      "            \"created_at\": 1718979336\n",
      "        }\n",
      "    ],\n",
      "    \"checkpoints\": [],\n",
      "    \"estimated_start_time\": null\n",
      "}\n",
      "Job is RUNNING, waiting 10 seconds\n",
      "{\n",
      "    \"id\": \"2ef2bee4-3134-4908-ba95-95f0947ebed0\",\n",
      "    \"hyperparameters\": {\n",
      "        \"training_steps\": 10,\n",
      "        \"learning_rate\": 0.0001\n",
      "    },\n",
      "    \"fine_tuned_model\": null,\n",
      "    \"model\": \"open-mistral-7b\",\n",
      "    \"status\": \"RUNNING\",\n",
      "    \"job_type\": \"FT\",\n",
      "    \"created_at\": 1718979336,\n",
      "    \"modified_at\": 1718979339,\n",
      "    \"training_files\": [\n",
      "        \"d04b7515-f54a-4400-abf6-029edb170df1\"\n",
      "    ],\n",
      "    \"validation_files\": [\n",
      "        \"22ae7d95-1bcd-4665-a1f3-ff7c7c550be3\"\n",
      "    ],\n",
      "    \"object\": \"job\",\n",
      "    \"integrations\": [],\n",
      "    \"events\": [\n",
      "        {\n",
      "            \"name\": \"status-updated\",\n",
      "            \"data\": {\n",
      "                \"status\": \"RUNNING\"\n",
      "            },\n",
      "            \"created_at\": 1718979339\n",
      "        },\n",
      "        {\n",
      "            \"name\": \"status-updated\",\n",
      "            \"data\": {\n",
      "                \"status\": \"QUEUED\"\n",
      "            },\n",
      "            \"created_at\": 1718979336\n",
      "        }\n",
      "    ],\n",
      "    \"checkpoints\": [],\n",
      "    \"estimated_start_time\": null\n",
      "}\n",
      "Job is RUNNING, waiting 10 seconds\n",
      "{\n",
      "    \"id\": \"2ef2bee4-3134-4908-ba95-95f0947ebed0\",\n",
      "    \"hyperparameters\": {\n",
      "        \"training_steps\": 10,\n",
      "        \"learning_rate\": 0.0001\n",
      "    },\n",
      "    \"fine_tuned_model\": null,\n",
      "    \"model\": \"open-mistral-7b\",\n",
      "    \"status\": \"RUNNING\",\n",
      "    \"job_type\": \"FT\",\n",
      "    \"created_at\": 1718979336,\n",
      "    \"modified_at\": 1718979339,\n",
      "    \"training_files\": [\n",
      "        \"d04b7515-f54a-4400-abf6-029edb170df1\"\n",
      "    ],\n",
      "    \"validation_files\": [\n",
      "        \"22ae7d95-1bcd-4665-a1f3-ff7c7c550be3\"\n",
      "    ],\n",
      "    \"object\": \"job\",\n",
      "    \"integrations\": [],\n",
      "    \"events\": [\n",
      "        {\n",
      "            \"name\": \"status-updated\",\n",
      "            \"data\": {\n",
      "                \"status\": \"RUNNING\"\n",
      "            },\n",
      "            \"created_at\": 1718979339\n",
      "        },\n",
      "        {\n",
      "            \"name\": \"status-updated\",\n",
      "            \"data\": {\n",
      "                \"status\": \"QUEUED\"\n",
      "            },\n",
      "            \"created_at\": 1718979336\n",
      "        }\n",
      "    ],\n",
      "    \"checkpoints\": [],\n",
      "    \"estimated_start_time\": null\n",
      "}\n",
      "Job is RUNNING, waiting 10 seconds\n",
      "{\n",
      "    \"id\": \"2ef2bee4-3134-4908-ba95-95f0947ebed0\",\n",
      "    \"hyperparameters\": {\n",
      "        \"training_steps\": 10,\n",
      "        \"learning_rate\": 0.0001\n",
      "    },\n",
      "    \"fine_tuned_model\": null,\n",
      "    \"model\": \"open-mistral-7b\",\n",
      "    \"status\": \"RUNNING\",\n",
      "    \"job_type\": \"FT\",\n",
      "    \"created_at\": 1718979336,\n",
      "    \"modified_at\": 1718979339,\n",
      "    \"training_files\": [\n",
      "        \"d04b7515-f54a-4400-abf6-029edb170df1\"\n",
      "    ],\n",
      "    \"validation_files\": [\n",
      "        \"22ae7d95-1bcd-4665-a1f3-ff7c7c550be3\"\n",
      "    ],\n",
      "    \"object\": \"job\",\n",
      "    \"integrations\": [],\n",
      "    \"events\": [\n",
      "        {\n",
      "            \"name\": \"status-updated\",\n",
      "            \"data\": {\n",
      "                \"status\": \"RUNNING\"\n",
      "            },\n",
      "            \"created_at\": 1718979339\n",
      "        },\n",
      "        {\n",
      "            \"name\": \"status-updated\",\n",
      "            \"data\": {\n",
      "                \"status\": \"QUEUED\"\n",
      "            },\n",
      "            \"created_at\": 1718979336\n",
      "        }\n",
      "    ],\n",
      "    \"checkpoints\": [],\n",
      "    \"estimated_start_time\": null\n",
      "}\n",
      "Job is RUNNING, waiting 10 seconds\n",
      "{\n",
      "    \"id\": \"2ef2bee4-3134-4908-ba95-95f0947ebed0\",\n",
      "    \"hyperparameters\": {\n",
      "        \"training_steps\": 10,\n",
      "        \"learning_rate\": 0.0001\n",
      "    },\n",
      "    \"fine_tuned_model\": null,\n",
      "    \"model\": \"open-mistral-7b\",\n",
      "    \"status\": \"RUNNING\",\n",
      "    \"job_type\": \"FT\",\n",
      "    \"created_at\": 1718979336,\n",
      "    \"modified_at\": 1718979339,\n",
      "    \"training_files\": [\n",
      "        \"d04b7515-f54a-4400-abf6-029edb170df1\"\n",
      "    ],\n",
      "    \"validation_files\": [\n",
      "        \"22ae7d95-1bcd-4665-a1f3-ff7c7c550be3\"\n",
      "    ],\n",
      "    \"object\": \"job\",\n",
      "    \"integrations\": [],\n",
      "    \"events\": [\n",
      "        {\n",
      "            \"name\": \"status-updated\",\n",
      "            \"data\": {\n",
      "                \"status\": \"RUNNING\"\n",
      "            },\n",
      "            \"created_at\": 1718979339\n",
      "        },\n",
      "        {\n",
      "            \"name\": \"status-updated\",\n",
      "            \"data\": {\n",
      "                \"status\": \"QUEUED\"\n",
      "            },\n",
      "            \"created_at\": 1718979336\n",
      "        }\n",
      "    ],\n",
      "    \"checkpoints\": [],\n",
      "    \"estimated_start_time\": null\n",
      "}\n",
      "Job is RUNNING, waiting 10 seconds\n",
      "{\n",
      "    \"id\": \"2ef2bee4-3134-4908-ba95-95f0947ebed0\",\n",
      "    \"hyperparameters\": {\n",
      "        \"training_steps\": 10,\n",
      "        \"learning_rate\": 0.0001\n",
      "    },\n",
      "    \"fine_tuned_model\": null,\n",
      "    \"model\": \"open-mistral-7b\",\n",
      "    \"status\": \"RUNNING\",\n",
      "    \"job_type\": \"FT\",\n",
      "    \"created_at\": 1718979336,\n",
      "    \"modified_at\": 1718979339,\n",
      "    \"training_files\": [\n",
      "        \"d04b7515-f54a-4400-abf6-029edb170df1\"\n",
      "    ],\n",
      "    \"validation_files\": [\n",
      "        \"22ae7d95-1bcd-4665-a1f3-ff7c7c550be3\"\n",
      "    ],\n",
      "    \"object\": \"job\",\n",
      "    \"integrations\": [],\n",
      "    \"events\": [\n",
      "        {\n",
      "            \"name\": \"status-updated\",\n",
      "            \"data\": {\n",
      "                \"status\": \"RUNNING\"\n",
      "            },\n",
      "            \"created_at\": 1718979339\n",
      "        },\n",
      "        {\n",
      "            \"name\": \"status-updated\",\n",
      "            \"data\": {\n",
      "                \"status\": \"QUEUED\"\n",
      "            },\n",
      "            \"created_at\": 1718979336\n",
      "        }\n",
      "    ],\n",
      "    \"checkpoints\": [\n",
      "        {\n",
      "            \"metrics\": {\n",
      "                \"train_loss\": 0.832316,\n",
      "                \"valid_loss\": 0.904584,\n",
      "                \"valid_mean_token_accuracy\": 1.872005\n",
      "            },\n",
      "            \"step_number\": 10,\n",
      "            \"created_at\": 1718979424\n",
      "        }\n",
      "    ],\n",
      "    \"estimated_start_time\": null\n",
      "}\n",
      "Job is RUNNING, waiting 10 seconds\n",
      "{\n",
      "    \"id\": \"2ef2bee4-3134-4908-ba95-95f0947ebed0\",\n",
      "    \"hyperparameters\": {\n",
      "        \"training_steps\": 10,\n",
      "        \"learning_rate\": 0.0001\n",
      "    },\n",
      "    \"fine_tuned_model\": \"ft:open-mistral-7b:c056c2e4:20240621:2ef2bee4\",\n",
      "    \"model\": \"open-mistral-7b\",\n",
      "    \"status\": \"SUCCESS\",\n",
      "    \"job_type\": \"FT\",\n",
      "    \"created_at\": 1718979336,\n",
      "    \"modified_at\": 1718979440,\n",
      "    \"training_files\": [\n",
      "        \"d04b7515-f54a-4400-abf6-029edb170df1\"\n",
      "    ],\n",
      "    \"validation_files\": [\n",
      "        \"22ae7d95-1bcd-4665-a1f3-ff7c7c550be3\"\n",
      "    ],\n",
      "    \"object\": \"job\",\n",
      "    \"integrations\": [],\n",
      "    \"events\": [\n",
      "        {\n",
      "            \"name\": \"status-updated\",\n",
      "            \"data\": {\n",
      "                \"status\": \"SUCCESS\"\n",
      "            },\n",
      "            \"created_at\": 1718979440\n",
      "        },\n",
      "        {\n",
      "            \"name\": \"status-updated\",\n",
      "            \"data\": {\n",
      "                \"status\": \"RUNNING\"\n",
      "            },\n",
      "            \"created_at\": 1718979339\n",
      "        },\n",
      "        {\n",
      "            \"name\": \"status-updated\",\n",
      "            \"data\": {\n",
      "                \"status\": \"QUEUED\"\n",
      "            },\n",
      "            \"created_at\": 1718979336\n",
      "        }\n",
      "    ],\n",
      "    \"checkpoints\": [\n",
      "        {\n",
      "            \"metrics\": {\n",
      "                \"train_loss\": 0.832316,\n",
      "                \"valid_loss\": 0.904584,\n",
      "                \"valid_mean_token_accuracy\": 1.872005\n",
      "            },\n",
      "            \"step_number\": 10,\n",
      "            \"created_at\": 1718979424\n",
      "        }\n",
      "    ],\n",
      "    \"estimated_start_time\": null\n",
      "}\n",
      "Job is SUCCESS, waiting 10 seconds\n"
     ]
    }
   ],
   "source": [
    "import time\n",
    "\n",
    "retrieved_job = client.jobs.retrieve(created_jobs.id)\n",
    "while retrieved_job.status in [\"RUNNING\", \"QUEUED\"]:\n",
    "    retrieved_job = client.jobs.retrieve(created_jobs.id)\n",
    "    pprint(retrieved_job)\n",
    "    print(f\"Job is {retrieved_job.status}, waiting 10 seconds\")\n",
    "    time.sleep(10)\n",
    "\n"
   ]
  },
  {
   "cell_type": "code",
   "execution_count": 15,
   "metadata": {
    "colab": {
     "base_uri": "https://localhost:8080/"
    },
    "id": "_x6wRaDtXDzt",
    "outputId": "1efa4948-0ca8-4bc1-85d2-7b72b7e4a931"
   },
   "outputs": [
    {
     "name": "stdout",
     "output_type": "stream",
     "text": [
      "{\n",
      "    \"data\": [\n",
      "        {\n",
      "            \"id\": \"68e070f1-b295-41cc-b052-a51c98e9628d\",\n",
      "            \"hyperparameters\": {\n",
      "                \"training_steps\": 10,\n",
      "                \"learning_rate\": 0.0001\n",
      "            },\n",
      "            \"fine_tuned_model\": \"ft:open-mistral-7b:c056c2e4:20240619:68e070f1\",\n",
      "            \"model\": \"open-mistral-7b\",\n",
      "            \"status\": \"SUCCESS\",\n",
      "            \"job_type\": \"FT\",\n",
      "            \"created_at\": 1718804524,\n",
      "            \"modified_at\": 1718804697,\n",
      "            \"training_files\": [\n",
      "                \"b3878ca4-510c-47f4-a340-4f45836f0b9b\"\n",
      "            ],\n",
      "            \"validation_files\": [\n",
      "                \"5a7f6234-4761-4efb-8b99-7be1299aa6d7\"\n",
      "            ],\n",
      "            \"object\": \"job\",\n",
      "            \"integrations\": []\n",
      "        }\n",
      "    ],\n",
      "    \"object\": \"list\"\n",
      "}\n"
     ]
    }
   ],
   "source": [
    "# List jobs\n",
    "jobs = client.jobs.list()\n",
    "pprint(jobs)"
   ]
  },
  {
   "cell_type": "code",
   "execution_count": 16,
   "metadata": {
    "colab": {
     "base_uri": "https://localhost:8080/"
    },
    "id": "OhTWA5uJXHNp",
    "outputId": "a6db9934-a231-4650-d539-17c25e32b8d5"
   },
   "outputs": [
    {
     "name": "stdout",
     "output_type": "stream",
     "text": [
      "{\n",
      "    \"id\": \"68e070f1-b295-41cc-b052-a51c98e9628d\",\n",
      "    \"hyperparameters\": {\n",
      "        \"training_steps\": 10,\n",
      "        \"learning_rate\": 0.0001\n",
      "    },\n",
      "    \"fine_tuned_model\": \"ft:open-mistral-7b:c056c2e4:20240619:68e070f1\",\n",
      "    \"model\": \"open-mistral-7b\",\n",
      "    \"status\": \"SUCCESS\",\n",
      "    \"job_type\": \"FT\",\n",
      "    \"created_at\": 1718804524,\n",
      "    \"modified_at\": 1718804697,\n",
      "    \"training_files\": [\n",
      "        \"b3878ca4-510c-47f4-a340-4f45836f0b9b\"\n",
      "    ],\n",
      "    \"validation_files\": [\n",
      "        \"5a7f6234-4761-4efb-8b99-7be1299aa6d7\"\n",
      "    ],\n",
      "    \"object\": \"job\",\n",
      "    \"integrations\": [],\n",
      "    \"events\": [\n",
      "        {\n",
      "            \"name\": \"status-updated\",\n",
      "            \"data\": {\n",
      "                \"status\": \"SUCCESS\"\n",
      "            },\n",
      "            \"created_at\": 1718804697\n",
      "        },\n",
      "        {\n",
      "            \"name\": \"status-updated\",\n",
      "            \"data\": {\n",
      "                \"status\": \"RUNNING\"\n",
      "            },\n",
      "            \"created_at\": 1718804526\n",
      "        },\n",
      "        {\n",
      "            \"name\": \"status-updated\",\n",
      "            \"data\": {\n",
      "                \"status\": \"QUEUED\"\n",
      "            },\n",
      "            \"created_at\": 1718804524\n",
      "        }\n",
      "    ],\n",
      "    \"checkpoints\": [\n",
      "        {\n",
      "            \"metrics\": {\n",
      "                \"train_loss\": 0.941681,\n",
      "                \"valid_loss\": 0.830458,\n",
      "                \"valid_mean_token_accuracy\": 1.77825\n",
      "            },\n",
      "            \"step_number\": 10,\n",
      "            \"created_at\": 1718804674\n",
      "        }\n",
      "    ],\n",
      "    \"estimated_start_time\": null\n",
      "}\n"
     ]
    }
   ],
   "source": [
    "# Retrieve a jobs\n",
    "retrieved_jobs = client.jobs.retrieve(created_jobs.id)\n",
    "pprint(retrieved_jobs)\n"
   ]
  },
  {
   "cell_type": "markdown",
   "metadata": {
    "id": "LK-cSS2EJv-e"
   },
   "source": [
    "## Use a fine-tuned model"
   ]
  },
  {
   "cell_type": "code",
   "execution_count": 17,
   "metadata": {
    "id": "M8vRIB4yXQ5a"
   },
   "outputs": [],
   "source": [
    "from mistralai.models.chat_completion import ChatMessage\n",
    "\n",
    "chat_response = client.chat(\n",
    "    model=retrieved_jobs.fine_tuned_model,\n",
    "    messages=[ChatMessage(role='user', content='What is the best French cheese?')]\n",
    ")"
   ]
  },
  {
   "cell_type": "code",
   "execution_count": 18,
   "metadata": {
    "colab": {
     "base_uri": "https://localhost:8080/"
    },
    "id": "hp0oj5jvX0dP",
    "outputId": "975ed74b-25fe-4e69-c6f8-0a61a69b5a8b"
   },
   "outputs": [
    {
     "name": "stdout",
     "output_type": "stream",
     "text": [
      "{\n",
      "    \"id\": \"b30564ffcb6f4ea9bdf47d4611527b94\",\n",
      "    \"object\": \"chat.completion\",\n",
      "    \"created\": 1718805028,\n",
      "    \"model\": \"ft:open-mistral-7b:c056c2e4:20240619:68e070f1\",\n",
      "    \"choices\": [\n",
      "        {\n",
      "            \"index\": 0,\n",
      "            \"message\": {\n",
      "                \"role\": \"assistant\",\n",
      "                \"content\": \"The best French cheese is a matter of personal preference. However, some of the most famous French cheeses include Roquefort, Camembert, and Brie. Roquefort is a blue-veined cheese which is made from sheep's milk, while Camembert and Brie are soft, creamy cheeses. These cheeses are known for their unique flavors and textures, and they are often enjoyed as part of a French meal. Some other popular French cheeses include Comt\\u00e9, Reblochon, and Gruy\\u00e8re. These cheeses are often made from cow's milk and have a hard and nutty texture. Some other popular French cheeses include Fromage de Ch\\u00e8vre, a soft goat cheese, and Beaufort, a hard cheese made from cow's milk. The best way to find out which French cheese is the best for you is to try a variety of them and see which one you like the most.\",\n",
      "                \"name\": null,\n",
      "                \"tool_calls\": null,\n",
      "                \"tool_call_id\": null\n",
      "            },\n",
      "            \"finish_reason\": \"stop\"\n",
      "        }\n",
      "    ],\n",
      "    \"usage\": {\n",
      "        \"prompt_tokens\": 10,\n",
      "        \"total_tokens\": 217,\n",
      "        \"completion_tokens\": 207\n",
      "    }\n",
      "}\n"
     ]
    }
   ],
   "source": [
    "pprint(chat_response)"
   ]
  },
  {
   "cell_type": "markdown",
   "metadata": {
    "id": "1xA68sx-J1Jj"
   },
   "source": [
    "## Integration with Weights and Biases\n",
    "We can also offer support for integration with Weights & Biases (W&B) to monitor and track various metrics and statistics associated with our fine-tuning jobs. To enable integration with W&B, you will need to create an account with W&B and add your W&B information in the “integrations” section in the job creation request:\n",
    "\n"
   ]
  },
  {
   "cell_type": "code",
   "execution_count": null,
   "metadata": {
    "id": "L7ZYQzZ7YcYb"
   },
   "outputs": [],
   "source": [
    "from mistralai.models.jobs import WandbIntegrationIn\n",
    "\n",
    "WANDB_API_KEY = \"XXX\"\n",
    "\n",
    "created_jobs = client.jobs.create(\n",
    "    model=\"open-mistral-7b\",\n",
    "    training_files=[ultrachat_chunk_train.id],\n",
    "    validation_files=[ultrachat_chunk_eval.id],\n",
    "    hyperparameters=TrainingParameters(\n",
    "        training_steps=100,\n",
    "        learning_rate=0.0001,\n",
    "    ),\n",
    "    integrations=[\n",
    "        WandbIntegrationIn(\n",
    "            project=\"test_ft_api\",\n",
    "            run_name=\"test\",\n",
    "            api_key=WANDB_API_KEY,\n",
    "        ).dict()\n",
    "    ],\n",
    ")"
   ]
  }
 ],
 "metadata": {
  "colab": {
   "provenance": []
  },
  "kernelspec": {
   "display_name": "Python (Poetry Mistral)",
   "language": "python",
   "name": "mistral-fine-tuning"
  },
  "language_info": {
   "codemirror_mode": {
    "name": "ipython",
    "version": 3
   },
   "file_extension": ".py",
   "mimetype": "text/x-python",
   "name": "python",
   "nbconvert_exporter": "python",
   "pygments_lexer": "ipython3",
   "version": "3.10.12"
  }
 },
 "nbformat": 4,
 "nbformat_minor": 4
}
