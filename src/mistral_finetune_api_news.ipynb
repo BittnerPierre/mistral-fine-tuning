{
 "cells": [
  {
   "cell_type": "markdown",
   "metadata": {
    "id": "urSaPCZoqEmM"
   },
   "source": [
    "# Mistral Fine-tuning API\n",
    "\n",
    "Check out the docs: https://docs.mistral.ai/capabilities/finetuning/"
   ]
  },
  {
   "cell_type": "code",
   "execution_count": null,
   "metadata": {},
   "outputs": [],
   "source": [
    "#!pip install mistralai pandas"
   ]
  },
  {
   "cell_type": "markdown",
   "metadata": {
    "id": "27PpM60GqRvR"
   },
   "source": [
    "## Prepare the dataset\n",
    "\n",
    "In this example, let’s use the ultrachat_200k dataset. We load a chunk of the data into Pandas Dataframes, split the data into training and validation, and save the data into the required jsonl format for fine-tuning."
   ]
  },
  {
   "cell_type": "code",
   "execution_count": 2,
   "metadata": {
    "id": "MUBRITvX59kC"
   },
   "outputs": [],
   "source": [
    "import pandas as pd\n",
    "df = pd.read_json('./data/generated_news_correction.jsonl', lines=True)\n",
    "\n",
    "\n",
    "df_train=df.sample(frac=0.995,random_state=200)\n",
    "df_eval=df.drop(df_train.index)\n",
    "\n",
    "df_train.to_json(\"news_chunk_train.jsonl\", orient=\"records\", lines=True)\n",
    "df_eval.to_json(\"news_chunk_eval.jsonl\", orient=\"records\", lines=True)"
   ]
  },
  {
   "cell_type": "code",
   "execution_count": 3,
   "metadata": {
    "colab": {
     "base_uri": "https://localhost:8080/"
    },
    "id": "S1Pv9zx96CR5",
    "outputId": "e412c365-5887-423a-83b0-1a65b6294ba2"
   },
   "outputs": [
    {
     "name": "stdout",
     "output_type": "stream",
     "text": [
      "total 296792\n",
      "-rw-r--r--  1 pierrebittner  staff   3,5K 21 jui 16:49 Step 2 - synthetize news.py\n",
      "-rw-r--r--  1 pierrebittner  staff   1,8K 21 jui 17:00 Step 3 - critique.py\n",
      "-rw-r--r--  1 pierrebittner  staff   6,4K 21 jui 17:30 Step 4 - specific-style.py\n",
      "-rw-r--r--  1 pierrebittner  staff   6,5K 19 jui 16:19 Untitled.ipynb\n",
      "drwxr-xr-x  5 pierrebittner  staff   160B 21 jui 17:06 \u001b[34m__pycache__\u001b[m\u001b[m\n",
      "-rw-r--r--  1 pierrebittner  staff   1,1K 21 jui 15:53 concatenate.py\n",
      "drwxr-xr-x  4 pierrebittner  staff   128B 21 jui 18:10 \u001b[34mdata\u001b[m\u001b[m\n",
      "-rw-r--r--@ 1 pierrebittner  staff    39K 21 jui 16:19 mistral_finetune_api.ipynb\n",
      "-rw-r--r--  1 pierrebittner  staff    48K 21 jui 17:52 mistral_finetune_api_news.ipynb\n",
      "-rw-r--r--  1 pierrebittner  staff    20K 21 jui 18:10 news_chunk_eval.jsonl\n",
      "-rw-r--r--  1 pierrebittner  staff   3,5M 21 jui 18:10 news_chunk_train.jsonl\n",
      "-rw-r--r--  1 pierrebittner  staff   447B 21 jui 11:29 prompts.py\n",
      "-rw-r--r--  1 pierrebittner  staff   3,3K 19 jui 11:53 reformat_data.py\n",
      "drwxr-xr-x  4 pierrebittner  staff   128B 21 jui 13:28 \u001b[34mtests\u001b[m\u001b[m\n",
      "-rw-r--r--  1 pierrebittner  staff   4,4K 21 jui 13:33 to_jsonl.py\n",
      "-rw-r--r--  1 pierrebittner  staff   676K 21 jui 16:11 ultrachat_chunk_eval.jsonl\n",
      "-rw-r--r--  1 pierrebittner  staff   141M 21 jui 16:11 ultrachat_chunk_train.jsonl\n",
      "-rw-r--r--  1 pierrebittner  staff   2,9K 21 jui 17:05 utils.py\n"
     ]
    }
   ],
   "source": [
    "!ls -lh"
   ]
  },
  {
   "cell_type": "markdown",
   "metadata": {
    "id": "dVfIMwgUJF91"
   },
   "source": [
    "## Reformat dataset\n",
    "If you upload this ultrachat_chunk_train.jsonl to Mistral API, you might encounter an error message “Invalid file format” due to data formatting issues. To reformat the data into the correct format, you can download the reformat_dataset.py script and use it to validate and reformat both the training and evaluation data:"
   ]
  },
  {
   "cell_type": "code",
   "execution_count": null,
   "metadata": {
    "colab": {
     "base_uri": "https://localhost:8080/"
    },
    "id": "kaLd2n726tAI",
    "outputId": "edb440bc-bc60-40ae-e284-4869812b037e"
   },
   "outputs": [],
   "source": [
    "# download the validation and reformat script\n",
    "!wget https://raw.githubusercontent.com/mistralai/mistral-finetune/main/utils/reformat_data.py"
   ]
  },
  {
   "cell_type": "code",
   "execution_count": 4,
   "metadata": {
    "colab": {
     "base_uri": "https://localhost:8080/"
    },
    "id": "QvLwYwfl6vfc",
    "outputId": "bef86874-67fa-4758-a633-1a6e17854b63"
   },
   "outputs": [],
   "source": [
    "# validate and reformat the training data\n",
    "!python reformat_data.py news_chunk_train.jsonl"
   ]
  },
  {
   "cell_type": "code",
   "execution_count": 5,
   "metadata": {
    "id": "gOKqvJMM6kgU"
   },
   "outputs": [],
   "source": [
    "# validate the reformat the eval data\n",
    "!python reformat_data.py news_chunk_eval.jsonl"
   ]
  },
  {
   "cell_type": "code",
   "execution_count": 6,
   "metadata": {
    "colab": {
     "base_uri": "https://localhost:8080/"
    },
    "id": "XO3RVA197Ont",
    "outputId": "19063479-6745-48b8-b694-79896ac2486d"
   },
   "outputs": [
    {
     "data": {
      "text/plain": [
       "[{'role': 'user',\n",
       "  'content': 'As a \"News Article Stylist\" following the Economist style guide,\\nyour task is to refine and rewrite news articles to ensure they meet the high standards of clarity,\\nprecision, and sophistication characteristic of the Economist.\\nYou are now given a news article.\\nRead the news article carefully and point out all stylistic issues of the given news article according\\nto the Economist style guide. Do not rewrite the news article. \\n\\nChina Announces Plans to Build World\\'s Largest Solar Farm\\n\\nEmily Chen\\n\\n2023-02-18\\n\\nChina has announced plans to build the world\\'s largest solar farm in the Gobi Desert. The farm will cover an area of over 2,000 square kilometers and will have a capacity of 200 gigawatts. This is enough to power over 100 million homes. The project is part of China\\'s goal to reach peak carbon emissions before 2030 and to become carbon neutral by 2060. The project is expected to create over 1 million jobs and to help reduce China\\'s dependence on fossil fuels.\\n\\nChina\\n'},\n",
       " {'role': 'assistant',\n",
       "  'content': 'The news article you provided is concise and informative, but there are a few stylistic issues that need to be addressed according to the Economist style guide:\\n\\n1. Headline: The Economist prefers headlines that are engaging and provide context. The current headline is straightforward but could be more captivating. For example, \"China\\'s Ambitious Plan for the World\\'s Largest Solar Farm.\"\\n\\n2. Byline: The Economist typically does not include bylines in their articles. If necessary, the author\\'s name can be included at the end of the article.\\n\\n3. Date: The Economist does not usually include the date in the body of the article. Instead, it is placed at the bottom of the article along with any relevant source citations.\\n\\n4. Lack of context: The article could benefit from additional context about China\\'s current energy situation and why this project is significant. The Economist often provides historical, political, or economic context to help readers understand the bigger picture.\\n\\n5. Use of numbers: The Economist prefers to spell out numbers from one to nine and use numerals for 10 and above. In this article, \"over 1 million jobs\" should be \"over 1m jobs\" and \"over 100 million homes\" should be \"over 100m homes.\"\\n\\n6. Lack of quotes: The Economist often includes quotes from relevant experts or officials to provide additional insights. Including a quote from a Chinese official or energy expert could enhance the article.\\n\\n7. Conclusion: The article ends abruptly. The Economist often concludes articles with a forward-looking statement or a thought-provoking question to engage readers.\\n\\n8. Source citation: The Economist always includes source citations for their articles. It is important to include where the information for this article was obtained.'},\n",
       " {'role': 'user',\n",
       "  'content': 'Incorporate the feedback to improve the style of the news article and provide the revised version, ensuring the content remains unaltered.'},\n",
       " {'role': 'assistant',\n",
       "  'content': \"China Unveils Grand Plan for World's Largest Solar Farm\\n\\nIn a bold move towards sustainable energy, China has unveiled plans to construct the world's largest solar farm in the Gobi Desert. Spanning an area of over 2,000 square kilometers, the farm will boast a capacity of 200 gigawatts, sufficient to power more than 100m homes. This ambitious project is a significant step in China's commitment to reach peak carbon emissions before 2030 and achieve carbon neutrality by 2060.\\n\\nThe proposed solar farm is expected to generate over 1m jobs, contributing to China's economic growth while simultaneously reducing its reliance on fossil fuels. As the world's largest greenhouse gas emitter, this shift towards renewable energy marks a pivotal moment in China's environmental policy.\\n\\nThe announcement comes at a time when global efforts to combat climate change are intensifying. With the United States rejoining the Paris Agreement and the European Union setting ambitious climate targets, China's solar farm project underscores the nation's determination to play a leading role in the fight against climate change.\\n\\nAs the world watches China's progress on this colossal project, questions arise about the feasibility and potential challenges that lie ahead. Nonetheless, the prospect of harnessing the Gobi Desert's abundant sunlight to power millions of homes offers a glimmer of hope in the global pursuit of a sustainable future.\\n\\nEmily Chen\\n\\nSources: [Include relevant source citations here]\"}]"
      ]
     },
     "execution_count": 6,
     "metadata": {},
     "output_type": "execute_result"
    }
   ],
   "source": [
    "df_train.iloc[104]['messages']"
   ]
  },
  {
   "cell_type": "markdown",
   "metadata": {
    "id": "hu_oLukAJect"
   },
   "source": [
    "## Upload dataset"
   ]
  },
  {
   "cell_type": "code",
   "execution_count": 7,
   "metadata": {
    "id": "B0UlO1Qa7xi3"
   },
   "outputs": [],
   "source": [
    "import os\n",
    "from mistralai.client import MistralClient\n",
    "\n",
    "api_key = os.environ.get(\"MISTRAL_API_KEY\")\n",
    "client = MistralClient(api_key=api_key)\n",
    "\n",
    "with open(\"news_chunk_train.jsonl\", \"rb\") as f:\n",
    "    news_chunk_train = client.files.create(file=(\"news_chunk_train.jsonl\", f))\n",
    "with open(\"news_chunk_eval.jsonl\", \"rb\") as f:\n",
    "    news_chunk_eval = client.files.create(file=(\"news_chunk_eval.jsonl\", f))"
   ]
  },
  {
   "cell_type": "code",
   "execution_count": 8,
   "metadata": {
    "id": "ChnYoKhoapES"
   },
   "outputs": [],
   "source": [
    "import json\n",
    "def pprint(obj):\n",
    "    print(json.dumps(obj.dict(), indent=4))"
   ]
  },
  {
   "cell_type": "code",
   "execution_count": 9,
   "metadata": {
    "colab": {
     "base_uri": "https://localhost:8080/"
    },
    "id": "rIAJdJIc9g2q",
    "outputId": "f5fc042e-8c06-473b-a616-536a0c6dd30c"
   },
   "outputs": [
    {
     "name": "stdout",
     "output_type": "stream",
     "text": [
      "{\n",
      "    \"id\": \"ef300892-aab1-4fd5-b2b6-787f236ad6f9\",\n",
      "    \"object\": \"file\",\n",
      "    \"bytes\": 3690402,\n",
      "    \"created_at\": 1718986297,\n",
      "    \"filename\": \"news_chunk_train.jsonl\",\n",
      "    \"purpose\": \"fine-tune\"\n",
      "}\n"
     ]
    }
   ],
   "source": [
    "pprint(news_chunk_train)"
   ]
  },
  {
   "cell_type": "code",
   "execution_count": 10,
   "metadata": {
    "colab": {
     "base_uri": "https://localhost:8080/"
    },
    "id": "5uA-Xnp1RTmx",
    "outputId": "ac0bdaba-4af1-4f19-a8ab-dd19482b1943"
   },
   "outputs": [
    {
     "name": "stdout",
     "output_type": "stream",
     "text": [
      "{\n",
      "    \"id\": \"37fc547a-5f4d-4b17-8420-eed7e05d1534\",\n",
      "    \"object\": \"file\",\n",
      "    \"bytes\": 20791,\n",
      "    \"created_at\": 1718986297,\n",
      "    \"filename\": \"news_chunk_eval.jsonl\",\n",
      "    \"purpose\": \"fine-tune\"\n",
      "}\n"
     ]
    }
   ],
   "source": [
    "pprint(news_chunk_eval)"
   ]
  },
  {
   "cell_type": "markdown",
   "metadata": {
    "id": "DqchXMeXJi6U"
   },
   "source": [
    "## Create a fine-tuning job"
   ]
  },
  {
   "cell_type": "code",
   "execution_count": 11,
   "metadata": {
    "id": "x9Qk42ADRVKo"
   },
   "outputs": [],
   "source": [
    "from mistralai.models.jobs import TrainingParameters\n",
    "\n",
    "created_jobs = client.jobs.create(\n",
    "    model=\"open-mistral-7b\",#\"mistral-small-latest\", #\"open-mistral-7b\", \n",
    "    training_files=[news_chunk_train.id],\n",
    "    validation_files=[news_chunk_eval.id],\n",
    "    hyperparameters=TrainingParameters(\n",
    "        training_steps=10,\n",
    "        learning_rate=0.0001,\n",
    "        )\n",
    ")"
   ]
  },
  {
   "cell_type": "code",
   "execution_count": 12,
   "metadata": {
    "colab": {
     "base_uri": "https://localhost:8080/"
    },
    "id": "bkZlYvwGanL1",
    "outputId": "396cd040-643b-4296-b026-bb3589df44de"
   },
   "outputs": [
    {
     "name": "stdout",
     "output_type": "stream",
     "text": [
      "{\n",
      "    \"id\": \"8e2d2916-7a00-470d-b990-aa53a2fadaaf\",\n",
      "    \"hyperparameters\": {\n",
      "        \"training_steps\": 10,\n",
      "        \"learning_rate\": 0.0001\n",
      "    },\n",
      "    \"fine_tuned_model\": null,\n",
      "    \"model\": \"open-mistral-7b\",\n",
      "    \"status\": \"QUEUED\",\n",
      "    \"job_type\": \"FT\",\n",
      "    \"created_at\": 1718986349,\n",
      "    \"modified_at\": 1718986349,\n",
      "    \"training_files\": [\n",
      "        \"ef300892-aab1-4fd5-b2b6-787f236ad6f9\"\n",
      "    ],\n",
      "    \"validation_files\": [\n",
      "        \"37fc547a-5f4d-4b17-8420-eed7e05d1534\"\n",
      "    ],\n",
      "    \"object\": \"job\",\n",
      "    \"integrations\": []\n",
      "}\n"
     ]
    }
   ],
   "source": [
    "pprint(created_jobs)"
   ]
  },
  {
   "cell_type": "code",
   "execution_count": 13,
   "metadata": {
    "colab": {
     "base_uri": "https://localhost:8080/"
    },
    "id": "OQXIE2G3c-Ds",
    "outputId": "83b955b3-5666-4b23-abbe-fa4dbe0ec676"
   },
   "outputs": [
    {
     "name": "stdout",
     "output_type": "stream",
     "text": [
      "{\n",
      "    \"id\": \"8e2d2916-7a00-470d-b990-aa53a2fadaaf\",\n",
      "    \"hyperparameters\": {\n",
      "        \"training_steps\": 10,\n",
      "        \"learning_rate\": 0.0001\n",
      "    },\n",
      "    \"fine_tuned_model\": null,\n",
      "    \"model\": \"open-mistral-7b\",\n",
      "    \"status\": \"RUNNING\",\n",
      "    \"job_type\": \"FT\",\n",
      "    \"created_at\": 1718986349,\n",
      "    \"modified_at\": 1718986350,\n",
      "    \"training_files\": [\n",
      "        \"ef300892-aab1-4fd5-b2b6-787f236ad6f9\"\n",
      "    ],\n",
      "    \"validation_files\": [\n",
      "        \"37fc547a-5f4d-4b17-8420-eed7e05d1534\"\n",
      "    ],\n",
      "    \"object\": \"job\",\n",
      "    \"integrations\": [],\n",
      "    \"events\": [\n",
      "        {\n",
      "            \"name\": \"status-updated\",\n",
      "            \"data\": {\n",
      "                \"status\": \"RUNNING\"\n",
      "            },\n",
      "            \"created_at\": 1718986350\n",
      "        },\n",
      "        {\n",
      "            \"name\": \"status-updated\",\n",
      "            \"data\": {\n",
      "                \"status\": \"QUEUED\"\n",
      "            },\n",
      "            \"created_at\": 1718986349\n",
      "        }\n",
      "    ],\n",
      "    \"checkpoints\": [],\n",
      "    \"estimated_start_time\": null\n",
      "}\n",
      "Job is RUNNING, waiting 10 seconds\n",
      "{\n",
      "    \"id\": \"8e2d2916-7a00-470d-b990-aa53a2fadaaf\",\n",
      "    \"hyperparameters\": {\n",
      "        \"training_steps\": 10,\n",
      "        \"learning_rate\": 0.0001\n",
      "    },\n",
      "    \"fine_tuned_model\": null,\n",
      "    \"model\": \"open-mistral-7b\",\n",
      "    \"status\": \"RUNNING\",\n",
      "    \"job_type\": \"FT\",\n",
      "    \"created_at\": 1718986349,\n",
      "    \"modified_at\": 1718986350,\n",
      "    \"training_files\": [\n",
      "        \"ef300892-aab1-4fd5-b2b6-787f236ad6f9\"\n",
      "    ],\n",
      "    \"validation_files\": [\n",
      "        \"37fc547a-5f4d-4b17-8420-eed7e05d1534\"\n",
      "    ],\n",
      "    \"object\": \"job\",\n",
      "    \"integrations\": [],\n",
      "    \"events\": [\n",
      "        {\n",
      "            \"name\": \"status-updated\",\n",
      "            \"data\": {\n",
      "                \"status\": \"RUNNING\"\n",
      "            },\n",
      "            \"created_at\": 1718986350\n",
      "        },\n",
      "        {\n",
      "            \"name\": \"status-updated\",\n",
      "            \"data\": {\n",
      "                \"status\": \"QUEUED\"\n",
      "            },\n",
      "            \"created_at\": 1718986349\n",
      "        }\n",
      "    ],\n",
      "    \"checkpoints\": [],\n",
      "    \"estimated_start_time\": null\n",
      "}\n",
      "Job is RUNNING, waiting 10 seconds\n",
      "{\n",
      "    \"id\": \"8e2d2916-7a00-470d-b990-aa53a2fadaaf\",\n",
      "    \"hyperparameters\": {\n",
      "        \"training_steps\": 10,\n",
      "        \"learning_rate\": 0.0001\n",
      "    },\n",
      "    \"fine_tuned_model\": null,\n",
      "    \"model\": \"open-mistral-7b\",\n",
      "    \"status\": \"RUNNING\",\n",
      "    \"job_type\": \"FT\",\n",
      "    \"created_at\": 1718986349,\n",
      "    \"modified_at\": 1718986350,\n",
      "    \"training_files\": [\n",
      "        \"ef300892-aab1-4fd5-b2b6-787f236ad6f9\"\n",
      "    ],\n",
      "    \"validation_files\": [\n",
      "        \"37fc547a-5f4d-4b17-8420-eed7e05d1534\"\n",
      "    ],\n",
      "    \"object\": \"job\",\n",
      "    \"integrations\": [],\n",
      "    \"events\": [\n",
      "        {\n",
      "            \"name\": \"status-updated\",\n",
      "            \"data\": {\n",
      "                \"status\": \"RUNNING\"\n",
      "            },\n",
      "            \"created_at\": 1718986350\n",
      "        },\n",
      "        {\n",
      "            \"name\": \"status-updated\",\n",
      "            \"data\": {\n",
      "                \"status\": \"QUEUED\"\n",
      "            },\n",
      "            \"created_at\": 1718986349\n",
      "        }\n",
      "    ],\n",
      "    \"checkpoints\": [],\n",
      "    \"estimated_start_time\": null\n",
      "}\n",
      "Job is RUNNING, waiting 10 seconds\n",
      "{\n",
      "    \"id\": \"8e2d2916-7a00-470d-b990-aa53a2fadaaf\",\n",
      "    \"hyperparameters\": {\n",
      "        \"training_steps\": 10,\n",
      "        \"learning_rate\": 0.0001\n",
      "    },\n",
      "    \"fine_tuned_model\": null,\n",
      "    \"model\": \"open-mistral-7b\",\n",
      "    \"status\": \"RUNNING\",\n",
      "    \"job_type\": \"FT\",\n",
      "    \"created_at\": 1718986349,\n",
      "    \"modified_at\": 1718986350,\n",
      "    \"training_files\": [\n",
      "        \"ef300892-aab1-4fd5-b2b6-787f236ad6f9\"\n",
      "    ],\n",
      "    \"validation_files\": [\n",
      "        \"37fc547a-5f4d-4b17-8420-eed7e05d1534\"\n",
      "    ],\n",
      "    \"object\": \"job\",\n",
      "    \"integrations\": [],\n",
      "    \"events\": [\n",
      "        {\n",
      "            \"name\": \"status-updated\",\n",
      "            \"data\": {\n",
      "                \"status\": \"RUNNING\"\n",
      "            },\n",
      "            \"created_at\": 1718986350\n",
      "        },\n",
      "        {\n",
      "            \"name\": \"status-updated\",\n",
      "            \"data\": {\n",
      "                \"status\": \"QUEUED\"\n",
      "            },\n",
      "            \"created_at\": 1718986349\n",
      "        }\n",
      "    ],\n",
      "    \"checkpoints\": [],\n",
      "    \"estimated_start_time\": null\n",
      "}\n",
      "Job is RUNNING, waiting 10 seconds\n",
      "{\n",
      "    \"id\": \"8e2d2916-7a00-470d-b990-aa53a2fadaaf\",\n",
      "    \"hyperparameters\": {\n",
      "        \"training_steps\": 10,\n",
      "        \"learning_rate\": 0.0001\n",
      "    },\n",
      "    \"fine_tuned_model\": null,\n",
      "    \"model\": \"open-mistral-7b\",\n",
      "    \"status\": \"RUNNING\",\n",
      "    \"job_type\": \"FT\",\n",
      "    \"created_at\": 1718986349,\n",
      "    \"modified_at\": 1718986350,\n",
      "    \"training_files\": [\n",
      "        \"ef300892-aab1-4fd5-b2b6-787f236ad6f9\"\n",
      "    ],\n",
      "    \"validation_files\": [\n",
      "        \"37fc547a-5f4d-4b17-8420-eed7e05d1534\"\n",
      "    ],\n",
      "    \"object\": \"job\",\n",
      "    \"integrations\": [],\n",
      "    \"events\": [\n",
      "        {\n",
      "            \"name\": \"status-updated\",\n",
      "            \"data\": {\n",
      "                \"status\": \"RUNNING\"\n",
      "            },\n",
      "            \"created_at\": 1718986350\n",
      "        },\n",
      "        {\n",
      "            \"name\": \"status-updated\",\n",
      "            \"data\": {\n",
      "                \"status\": \"QUEUED\"\n",
      "            },\n",
      "            \"created_at\": 1718986349\n",
      "        }\n",
      "    ],\n",
      "    \"checkpoints\": [],\n",
      "    \"estimated_start_time\": null\n",
      "}\n",
      "Job is RUNNING, waiting 10 seconds\n",
      "{\n",
      "    \"id\": \"8e2d2916-7a00-470d-b990-aa53a2fadaaf\",\n",
      "    \"hyperparameters\": {\n",
      "        \"training_steps\": 10,\n",
      "        \"learning_rate\": 0.0001\n",
      "    },\n",
      "    \"fine_tuned_model\": null,\n",
      "    \"model\": \"open-mistral-7b\",\n",
      "    \"status\": \"RUNNING\",\n",
      "    \"job_type\": \"FT\",\n",
      "    \"created_at\": 1718986349,\n",
      "    \"modified_at\": 1718986350,\n",
      "    \"training_files\": [\n",
      "        \"ef300892-aab1-4fd5-b2b6-787f236ad6f9\"\n",
      "    ],\n",
      "    \"validation_files\": [\n",
      "        \"37fc547a-5f4d-4b17-8420-eed7e05d1534\"\n",
      "    ],\n",
      "    \"object\": \"job\",\n",
      "    \"integrations\": [],\n",
      "    \"events\": [\n",
      "        {\n",
      "            \"name\": \"status-updated\",\n",
      "            \"data\": {\n",
      "                \"status\": \"RUNNING\"\n",
      "            },\n",
      "            \"created_at\": 1718986350\n",
      "        },\n",
      "        {\n",
      "            \"name\": \"status-updated\",\n",
      "            \"data\": {\n",
      "                \"status\": \"QUEUED\"\n",
      "            },\n",
      "            \"created_at\": 1718986349\n",
      "        }\n",
      "    ],\n",
      "    \"checkpoints\": [\n",
      "        {\n",
      "            \"metrics\": {\n",
      "                \"train_loss\": 0.508041,\n",
      "                \"valid_loss\": 0.687776,\n",
      "                \"valid_mean_token_accuracy\": 1.610798\n",
      "            },\n",
      "            \"step_number\": 10,\n",
      "            \"created_at\": 1718986411\n",
      "        }\n",
      "    ],\n",
      "    \"estimated_start_time\": null\n",
      "}\n",
      "Job is RUNNING, waiting 10 seconds\n",
      "{\n",
      "    \"id\": \"8e2d2916-7a00-470d-b990-aa53a2fadaaf\",\n",
      "    \"hyperparameters\": {\n",
      "        \"training_steps\": 10,\n",
      "        \"learning_rate\": 0.0001\n",
      "    },\n",
      "    \"fine_tuned_model\": null,\n",
      "    \"model\": \"open-mistral-7b\",\n",
      "    \"status\": \"RUNNING\",\n",
      "    \"job_type\": \"FT\",\n",
      "    \"created_at\": 1718986349,\n",
      "    \"modified_at\": 1718986350,\n",
      "    \"training_files\": [\n",
      "        \"ef300892-aab1-4fd5-b2b6-787f236ad6f9\"\n",
      "    ],\n",
      "    \"validation_files\": [\n",
      "        \"37fc547a-5f4d-4b17-8420-eed7e05d1534\"\n",
      "    ],\n",
      "    \"object\": \"job\",\n",
      "    \"integrations\": [],\n",
      "    \"events\": [\n",
      "        {\n",
      "            \"name\": \"status-updated\",\n",
      "            \"data\": {\n",
      "                \"status\": \"RUNNING\"\n",
      "            },\n",
      "            \"created_at\": 1718986350\n",
      "        },\n",
      "        {\n",
      "            \"name\": \"status-updated\",\n",
      "            \"data\": {\n",
      "                \"status\": \"QUEUED\"\n",
      "            },\n",
      "            \"created_at\": 1718986349\n",
      "        }\n",
      "    ],\n",
      "    \"checkpoints\": [\n",
      "        {\n",
      "            \"metrics\": {\n",
      "                \"train_loss\": 0.508041,\n",
      "                \"valid_loss\": 0.687776,\n",
      "                \"valid_mean_token_accuracy\": 1.610798\n",
      "            },\n",
      "            \"step_number\": 10,\n",
      "            \"created_at\": 1718986411\n",
      "        }\n",
      "    ],\n",
      "    \"estimated_start_time\": null\n",
      "}\n",
      "Job is RUNNING, waiting 10 seconds\n",
      "{\n",
      "    \"id\": \"8e2d2916-7a00-470d-b990-aa53a2fadaaf\",\n",
      "    \"hyperparameters\": {\n",
      "        \"training_steps\": 10,\n",
      "        \"learning_rate\": 0.0001\n",
      "    },\n",
      "    \"fine_tuned_model\": \"ft:open-mistral-7b:c056c2e4:20240621:8e2d2916\",\n",
      "    \"model\": \"open-mistral-7b\",\n",
      "    \"status\": \"SUCCESS\",\n",
      "    \"job_type\": \"FT\",\n",
      "    \"created_at\": 1718986349,\n",
      "    \"modified_at\": 1718986433,\n",
      "    \"training_files\": [\n",
      "        \"ef300892-aab1-4fd5-b2b6-787f236ad6f9\"\n",
      "    ],\n",
      "    \"validation_files\": [\n",
      "        \"37fc547a-5f4d-4b17-8420-eed7e05d1534\"\n",
      "    ],\n",
      "    \"object\": \"job\",\n",
      "    \"integrations\": [],\n",
      "    \"events\": [\n",
      "        {\n",
      "            \"name\": \"status-updated\",\n",
      "            \"data\": {\n",
      "                \"status\": \"SUCCESS\"\n",
      "            },\n",
      "            \"created_at\": 1718986433\n",
      "        },\n",
      "        {\n",
      "            \"name\": \"status-updated\",\n",
      "            \"data\": {\n",
      "                \"status\": \"RUNNING\"\n",
      "            },\n",
      "            \"created_at\": 1718986350\n",
      "        },\n",
      "        {\n",
      "            \"name\": \"status-updated\",\n",
      "            \"data\": {\n",
      "                \"status\": \"QUEUED\"\n",
      "            },\n",
      "            \"created_at\": 1718986349\n",
      "        }\n",
      "    ],\n",
      "    \"checkpoints\": [\n",
      "        {\n",
      "            \"metrics\": {\n",
      "                \"train_loss\": 0.508041,\n",
      "                \"valid_loss\": 0.687776,\n",
      "                \"valid_mean_token_accuracy\": 1.610798\n",
      "            },\n",
      "            \"step_number\": 10,\n",
      "            \"created_at\": 1718986411\n",
      "        }\n",
      "    ],\n",
      "    \"estimated_start_time\": null\n",
      "}\n",
      "Job is SUCCESS, waiting 10 seconds\n"
     ]
    }
   ],
   "source": [
    "import time\n",
    "\n",
    "retrieved_job = client.jobs.retrieve(created_jobs.id)\n",
    "while retrieved_job.status in [\"RUNNING\", \"QUEUED\"]:\n",
    "    retrieved_job = client.jobs.retrieve(created_jobs.id)\n",
    "    pprint(retrieved_job)\n",
    "    print(f\"Job is {retrieved_job.status}, waiting 10 seconds\")\n",
    "    time.sleep(10)\n",
    "\n"
   ]
  },
  {
   "cell_type": "code",
   "execution_count": 14,
   "metadata": {
    "colab": {
     "base_uri": "https://localhost:8080/"
    },
    "id": "_x6wRaDtXDzt",
    "outputId": "1efa4948-0ca8-4bc1-85d2-7b72b7e4a931"
   },
   "outputs": [
    {
     "name": "stdout",
     "output_type": "stream",
     "text": [
      "{\n",
      "    \"data\": [\n",
      "        {\n",
      "            \"id\": \"8e2d2916-7a00-470d-b990-aa53a2fadaaf\",\n",
      "            \"hyperparameters\": {\n",
      "                \"training_steps\": 10,\n",
      "                \"learning_rate\": 0.0001\n",
      "            },\n",
      "            \"fine_tuned_model\": \"ft:open-mistral-7b:c056c2e4:20240621:8e2d2916\",\n",
      "            \"model\": \"open-mistral-7b\",\n",
      "            \"status\": \"SUCCESS\",\n",
      "            \"job_type\": \"FT\",\n",
      "            \"created_at\": 1718986349,\n",
      "            \"modified_at\": 1718986433,\n",
      "            \"training_files\": [\n",
      "                \"ef300892-aab1-4fd5-b2b6-787f236ad6f9\"\n",
      "            ],\n",
      "            \"validation_files\": [\n",
      "                \"37fc547a-5f4d-4b17-8420-eed7e05d1534\"\n",
      "            ],\n",
      "            \"object\": \"job\",\n",
      "            \"integrations\": []\n",
      "        },\n",
      "        {\n",
      "            \"id\": \"d3a4936b-4f52-498a-a5bd-5580b52a19a0\",\n",
      "            \"hyperparameters\": {\n",
      "                \"training_steps\": 10,\n",
      "                \"learning_rate\": 0.0001\n",
      "            },\n",
      "            \"fine_tuned_model\": null,\n",
      "            \"model\": \"mistral-small-latest\",\n",
      "            \"status\": \"FAILED\",\n",
      "            \"job_type\": \"FT\",\n",
      "            \"created_at\": 1718984557,\n",
      "            \"modified_at\": 1718984710,\n",
      "            \"training_files\": [\n",
      "                \"f6c21839-2087-4853-be42-792c2a7b3359\"\n",
      "            ],\n",
      "            \"validation_files\": [\n",
      "                \"5174de44-8a5b-4197-9264-a6dffa1739f0\"\n",
      "            ],\n",
      "            \"object\": \"job\",\n",
      "            \"integrations\": []\n",
      "        },\n",
      "        {\n",
      "            \"id\": \"2ef2bee4-3134-4908-ba95-95f0947ebed0\",\n",
      "            \"hyperparameters\": {\n",
      "                \"training_steps\": 10,\n",
      "                \"learning_rate\": 0.0001\n",
      "            },\n",
      "            \"fine_tuned_model\": \"ft:open-mistral-7b:c056c2e4:20240621:2ef2bee4\",\n",
      "            \"model\": \"open-mistral-7b\",\n",
      "            \"status\": \"SUCCESS\",\n",
      "            \"job_type\": \"FT\",\n",
      "            \"created_at\": 1718979336,\n",
      "            \"modified_at\": 1718979440,\n",
      "            \"training_files\": [\n",
      "                \"d04b7515-f54a-4400-abf6-029edb170df1\"\n",
      "            ],\n",
      "            \"validation_files\": [\n",
      "                \"22ae7d95-1bcd-4665-a1f3-ff7c7c550be3\"\n",
      "            ],\n",
      "            \"object\": \"job\",\n",
      "            \"integrations\": []\n",
      "        },\n",
      "        {\n",
      "            \"id\": \"9c8c6351-939b-4813-b07b-7e6342766298\",\n",
      "            \"hyperparameters\": {\n",
      "                \"training_steps\": 10,\n",
      "                \"learning_rate\": 0.0001\n",
      "            },\n",
      "            \"fine_tuned_model\": null,\n",
      "            \"model\": \"mistral-small-latest\",\n",
      "            \"status\": \"FAILED\",\n",
      "            \"job_type\": \"FT\",\n",
      "            \"created_at\": 1718978920,\n",
      "            \"modified_at\": 1718979063,\n",
      "            \"training_files\": [\n",
      "                \"11398edc-0639-403e-a4e3-e65cf1086eef\"\n",
      "            ],\n",
      "            \"validation_files\": [\n",
      "                \"0038e4f5-9026-4c54-943a-b71682b54393\"\n",
      "            ],\n",
      "            \"object\": \"job\",\n",
      "            \"integrations\": []\n",
      "        },\n",
      "        {\n",
      "            \"id\": \"4809b2bb-01e7-4ae9-8528-76df399d20c0\",\n",
      "            \"hyperparameters\": {\n",
      "                \"training_steps\": 10,\n",
      "                \"learning_rate\": 0.0001\n",
      "            },\n",
      "            \"fine_tuned_model\": null,\n",
      "            \"model\": \"open-mistral-7b\",\n",
      "            \"status\": \"FAILED\",\n",
      "            \"job_type\": \"FT\",\n",
      "            \"created_at\": 1718978647,\n",
      "            \"modified_at\": 1718978710,\n",
      "            \"training_files\": [\n",
      "                \"4d0f68f8-8b46-4e63-9157-e67f00c15358\"\n",
      "            ],\n",
      "            \"validation_files\": [\n",
      "                \"d35bae76-b12c-40fb-9375-1d2bf0560ef5\"\n",
      "            ],\n",
      "            \"object\": \"job\",\n",
      "            \"integrations\": []\n",
      "        },\n",
      "        {\n",
      "            \"id\": \"24b0d1db-05d1-4169-91df-a0b11a73b97c\",\n",
      "            \"hyperparameters\": {\n",
      "                \"training_steps\": 10,\n",
      "                \"learning_rate\": 0.0001\n",
      "            },\n",
      "            \"fine_tuned_model\": null,\n",
      "            \"model\": \"open-mistral-7b\",\n",
      "            \"status\": \"FAILED\",\n",
      "            \"job_type\": \"FT\",\n",
      "            \"created_at\": 1718978298,\n",
      "            \"modified_at\": 1718978367,\n",
      "            \"training_files\": [\n",
      "                \"4d0f68f8-8b46-4e63-9157-e67f00c15358\"\n",
      "            ],\n",
      "            \"validation_files\": [\n",
      "                \"d35bae76-b12c-40fb-9375-1d2bf0560ef5\"\n",
      "            ],\n",
      "            \"object\": \"job\",\n",
      "            \"integrations\": []\n",
      "        },\n",
      "        {\n",
      "            \"id\": \"68e070f1-b295-41cc-b052-a51c98e9628d\",\n",
      "            \"hyperparameters\": {\n",
      "                \"training_steps\": 10,\n",
      "                \"learning_rate\": 0.0001\n",
      "            },\n",
      "            \"fine_tuned_model\": \"ft:open-mistral-7b:c056c2e4:20240619:68e070f1\",\n",
      "            \"model\": \"open-mistral-7b\",\n",
      "            \"status\": \"SUCCESS\",\n",
      "            \"job_type\": \"FT\",\n",
      "            \"created_at\": 1718804524,\n",
      "            \"modified_at\": 1718804697,\n",
      "            \"training_files\": [\n",
      "                \"b3878ca4-510c-47f4-a340-4f45836f0b9b\"\n",
      "            ],\n",
      "            \"validation_files\": [\n",
      "                \"5a7f6234-4761-4efb-8b99-7be1299aa6d7\"\n",
      "            ],\n",
      "            \"object\": \"job\",\n",
      "            \"integrations\": []\n",
      "        }\n",
      "    ],\n",
      "    \"object\": \"list\"\n",
      "}\n"
     ]
    }
   ],
   "source": [
    "# List jobs\n",
    "jobs = client.jobs.list()\n",
    "pprint(jobs)"
   ]
  },
  {
   "cell_type": "code",
   "execution_count": 15,
   "metadata": {
    "colab": {
     "base_uri": "https://localhost:8080/"
    },
    "id": "OhTWA5uJXHNp",
    "outputId": "a6db9934-a231-4650-d539-17c25e32b8d5"
   },
   "outputs": [
    {
     "name": "stdout",
     "output_type": "stream",
     "text": [
      "{\n",
      "    \"id\": \"8e2d2916-7a00-470d-b990-aa53a2fadaaf\",\n",
      "    \"hyperparameters\": {\n",
      "        \"training_steps\": 10,\n",
      "        \"learning_rate\": 0.0001\n",
      "    },\n",
      "    \"fine_tuned_model\": \"ft:open-mistral-7b:c056c2e4:20240621:8e2d2916\",\n",
      "    \"model\": \"open-mistral-7b\",\n",
      "    \"status\": \"SUCCESS\",\n",
      "    \"job_type\": \"FT\",\n",
      "    \"created_at\": 1718986349,\n",
      "    \"modified_at\": 1718986433,\n",
      "    \"training_files\": [\n",
      "        \"ef300892-aab1-4fd5-b2b6-787f236ad6f9\"\n",
      "    ],\n",
      "    \"validation_files\": [\n",
      "        \"37fc547a-5f4d-4b17-8420-eed7e05d1534\"\n",
      "    ],\n",
      "    \"object\": \"job\",\n",
      "    \"integrations\": [],\n",
      "    \"events\": [\n",
      "        {\n",
      "            \"name\": \"status-updated\",\n",
      "            \"data\": {\n",
      "                \"status\": \"SUCCESS\"\n",
      "            },\n",
      "            \"created_at\": 1718986433\n",
      "        },\n",
      "        {\n",
      "            \"name\": \"status-updated\",\n",
      "            \"data\": {\n",
      "                \"status\": \"RUNNING\"\n",
      "            },\n",
      "            \"created_at\": 1718986350\n",
      "        },\n",
      "        {\n",
      "            \"name\": \"status-updated\",\n",
      "            \"data\": {\n",
      "                \"status\": \"QUEUED\"\n",
      "            },\n",
      "            \"created_at\": 1718986349\n",
      "        }\n",
      "    ],\n",
      "    \"checkpoints\": [\n",
      "        {\n",
      "            \"metrics\": {\n",
      "                \"train_loss\": 0.508041,\n",
      "                \"valid_loss\": 0.687776,\n",
      "                \"valid_mean_token_accuracy\": 1.610798\n",
      "            },\n",
      "            \"step_number\": 10,\n",
      "            \"created_at\": 1718986411\n",
      "        }\n",
      "    ],\n",
      "    \"estimated_start_time\": null\n",
      "}\n"
     ]
    }
   ],
   "source": [
    "# Retrieve a jobs\n",
    "retrieved_jobs = client.jobs.retrieve(created_jobs.id)\n",
    "pprint(retrieved_jobs)\n"
   ]
  },
  {
   "cell_type": "markdown",
   "metadata": {
    "id": "LK-cSS2EJv-e"
   },
   "source": [
    "## Use a fine-tuned model"
   ]
  },
  {
   "cell_type": "code",
   "execution_count": 17,
   "metadata": {
    "id": "M8vRIB4yXQ5a"
   },
   "outputs": [],
   "source": [
    "from mistralai.models.chat_completion import ChatMessage\n",
    "\n",
    "chat_response = client.chat(\n",
    "    model=retrieved_jobs.fine_tuned_model,\n",
    "    messages=[ChatMessage(role=\"user\", content=\"You are a 'News Writer'. \"\n",
    "    \"Your task is to write a news of 500–1000 words on 'Environment and Climate'.\"\n",
    "    \"Each news should have a title, content, author, location and date.\")]\n",
    ")"
   ]
  },
  {
   "cell_type": "code",
   "execution_count": 18,
   "metadata": {
    "colab": {
     "base_uri": "https://localhost:8080/"
    },
    "id": "hp0oj5jvX0dP",
    "outputId": "975ed74b-25fe-4e69-c6f8-0a61a69b5a8b"
   },
   "outputs": [
    {
     "name": "stdout",
     "output_type": "stream",
     "text": [
      "{\n",
      "    \"id\": \"9c96b420486b460a9e93c93d6d097747\",\n",
      "    \"object\": \"chat.completion\",\n",
      "    \"created\": 1718986497,\n",
      "    \"model\": \"ft:open-mistral-7b:c056c2e4:20240621:8e2d2916\",\n",
      "    \"choices\": [\n",
      "        {\n",
      "            \"index\": 0,\n",
      "            \"message\": {\n",
      "                \"role\": \"assistant\",\n",
      "                \"content\": \"Title: \\\"Renewable Energy Revolution: A Step Towards Sustainable Future\\\"\\n\\nContent:\\n\\nIn a groundbreaking development, the global community has taken a significant stride towards a sustainable future as the adoption of renewable energy sources has reached an unprecedented peak. According to the latest report by the International Energy Agency (IEA), the renewable energy sector has experienced a 13% growth rate this year, marking a new era of energy production.\\n\\nThe rapid transition from fossil fuels to renewable energy sources is a testament to the global commitment towards combating climate change and ensuring a sustainable future for generations to come. The IEA report highlights that solar and wind energy have played a pivotal role in this transformation, contributing to over 90% of the renewable energy growth.\\n\\nThe United States, China, and the European Union are leading the charge in the renewable energy revolution. The US has set ambitious targets to achieve a carbon-neutral economy by 2050, with renewables accounting for over 40% of the country's power generation. China, the world's largest emitter of greenhouse gases, has pledged to reach carbon neutrality by 2060 and has been investing heavily in renewable energy infrastructure. The European Union, on the other hand, aims to achieve climate neutrality by 2050 and has set a target of 32% renewable energy consumption.\\n\\nThe renewable energy revolution is not just limited to power generation. The transportation sector is also witnessing a shift towards cleaner alternatives. Electric vehicles (EVs) have gained significant popularity, with countries like Norway and Iceland leading the way in EV adoption. The global EV market is expected to grow at a compound annual growth rate (CAGR) of 25.3% between 2021 and 2028, according to a report by Grand View Research Inc.\\n\\nThe renewable energy revolution is not without its challenges. The intermittent nature of solar and wind energy requires robust grid infrastructure to ensure a stable supply of power. Additionally, the high initial investment costs for renewable energy projects can be a deterrent for many countries, particularly developing ones.\\n\\nHowever, the benefits of the renewable energy revolution far outweigh the challenges. The transition to renewable energy sources not only reduces greenhouse gas emissions but also improves air quality, enhances energy security, and stimulates economic growth.\\n\\nThe renewable energy revolution is a beacon of hope in the fight against climate change. As the world grapples with the impacts of global warming, it is crucial that we continue to push for greater adoption of renewable energy sources. The future belongs to those who invest in a sustainable and renewable energy-driven economy.\\n\\nAuthor: John Doe\\n\\nLocation: Global\\n\\nDate: December 15, 2021\",\n",
      "                \"name\": null,\n",
      "                \"tool_calls\": null,\n",
      "                \"tool_call_id\": null\n",
      "            },\n",
      "            \"finish_reason\": \"stop\"\n",
      "        }\n",
      "    ],\n",
      "    \"usage\": {\n",
      "        \"prompt_tokens\": 50,\n",
      "        \"total_tokens\": 670,\n",
      "        \"completion_tokens\": 620\n",
      "    }\n",
      "}\n"
     ]
    }
   ],
   "source": [
    "pprint(chat_response)"
   ]
  },
  {
   "cell_type": "code",
   "execution_count": 20,
   "metadata": {},
   "outputs": [],
   "source": [
    "response_ori = client.chat(\n",
    "        model=\"open-mistral-7b\",\n",
    "        messages=[ChatMessage(role=\"user\", content=\"You are a 'News Writer'. \"\n",
    "    \"Your task is to write a news of 500–1000 words on 'Environment and Climate'.\"\n",
    "    \"Each news should have a title, content, author, location and date.\")],\n",
    "    )"
   ]
  },
  {
   "cell_type": "code",
   "execution_count": 21,
   "metadata": {},
   "outputs": [
    {
     "name": "stdout",
     "output_type": "stream",
     "text": [
      "{\n",
      "    \"id\": \"d0233dc53afc42eea61d84c7ad0fa3ab\",\n",
      "    \"object\": \"chat.completion\",\n",
      "    \"created\": 1718986682,\n",
      "    \"model\": \"open-mistral-7b\",\n",
      "    \"choices\": [\n",
      "        {\n",
      "            \"index\": 0,\n",
      "            \"message\": {\n",
      "                \"role\": \"assistant\",\n",
      "                \"content\": \"Title: Rapid Rise in Global Temperature: A Wake-Up Call for Climate Action\\n\\nContent:\\n\\nThe world is experiencing an alarming increase in global temperatures, with 2020 recording as the hottest year on record, according to the National Aeronautics and Space Administration (NASA) and the National Oceanic and Atmospheric Administration (NOAA). This concerning trend underscores the urgent need for global climate action.\\n\\nThe average global temperature in 2020 was 1.62 degrees Celsius above the pre-industrial level, surpassing the previous record set in 2016 by 0.04 degrees Celsius. This rise in temperature has been primarily attributed to human activities, particularly the burning of fossil fuels, deforestation, and industrialization.\\n\\nThe consequences of this temperature rise are far-reaching and devastating. Rising temperatures are causing melting ice caps, leading to sea-level rise and increased flood risks. This, in turn, threatens coastal communities and cities worldwide, putting millions of people at risk.\\n\\nMoreover, higher temperatures are exacerbating extreme weather events such as hurricanes, droughts, and heatwaves. The frequency and intensity of these events have been increasing, causing massive destruction and loss of life.\\n\\nThe World Meteorological Organization (WMO) has warned that the current pace of temperature rise will lead to catastrophic consequences if not addressed urgently. The organization's Secretary-General, Petteri Taalas, stated, \\\"We are starting to see the consequences of 1.2 degrees Celsius of global warming. The last six years are the warmest on record. If we do not act now, the more severe and frequent disruptions to our lives will only grow worse.\\\"\\n\\nIn response to this crisis, nations around the world have pledged to reduce greenhouse gas emissions under the Paris Agreement. However, the current commitments are not sufficient to keep global temperature rise below 2 degrees Celsius, let alone the more ambitious 1.5 degrees Celsius target.\\n\\nExperts agree that immediate and drastic action is needed to curb emissions and mitigate the effects of climate change. This includes transitioning to renewable energy, improving energy efficiency, reforestation, and implementing sustainable agricultural practices.\\n\\nIn conclusion, the rapid rise in global temperature is a stark reminder of the urgent need for climate action. The consequences of inaction are dire, and the window for effective intervention is narrowing. It is incumbent upon nations, businesses, and individuals to take decisive action to combat climate change and secure a sustainable future for generations to come.\\n\\nAuthor: John Doe\\nLocation: Global\\nDate: March 1, 2021\",\n",
      "                \"name\": null,\n",
      "                \"tool_calls\": null,\n",
      "                \"tool_call_id\": null\n",
      "            },\n",
      "            \"finish_reason\": \"stop\"\n",
      "        }\n",
      "    ],\n",
      "    \"usage\": {\n",
      "        \"prompt_tokens\": 50,\n",
      "        \"total_tokens\": 658,\n",
      "        \"completion_tokens\": 608\n",
      "    }\n",
      "}\n"
     ]
    }
   ],
   "source": [
    "pprint(response_ori)"
   ]
  },
  {
   "cell_type": "code",
   "execution_count": 24,
   "metadata": {},
   "outputs": [],
   "source": [
    "news_1 = response_ori.choices[0].message.content"
   ]
  },
  {
   "cell_type": "code",
   "execution_count": 25,
   "metadata": {},
   "outputs": [],
   "source": [
    "news_2 = chat_response.choices[0].message.content"
   ]
  },
  {
   "cell_type": "code",
   "execution_count": 33,
   "metadata": {},
   "outputs": [],
   "source": [
    "response_comparison = client.chat(\n",
    "        model=\"mistral-large-latest\",\n",
    "        messages=[ChatMessage(role=\"user\", content=f\"\"\"As a 'News Article Stylist' following the Economist style guide,\n",
    "        your task is to refine and rewrite news articles to ensure they meet the high standards of clarity,\n",
    "        precision, and sophistication characteristic of the Economist.\n",
    "        You are now given to news articles.\n",
    "        Read the news articles carefully and point which one has the most stylistic issues according\n",
    "        to the Economist style guide. Do not rewrite the news articles.\n",
    "        <News_1>{news_1}</News_1>\n",
    "                      \n",
    "        <News_2> {news_2}</News_2>\"\"\")]\n",
    "    )"
   ]
  },
  {
   "cell_type": "code",
   "execution_count": 34,
   "metadata": {},
   "outputs": [
    {
     "data": {
      "text/plain": [
       "'Both news articles are generally well-written and adhere to the principles of clarity, precision, and sophistication as per the Economist style guide. However, News_1 has a few stylistic issues that need to be addressed:\\n\\n1. The use of exclamatory phrases such as \"alarming increase\" and \"dire consequences\" may be seen as sensational and could be replaced with more neutral language while still conveying the urgency of the situation.\\n\\n2. The phrase \"in turn\" is repeated twice in the third paragraph, which can be avoided by rephrasing the sentences.\\n\\n3. The sentence \"The World Meteorological Organization (WMO) has warned that the current pace of temperature rise will lead to catastrophic consequences if not addressed urgently\" can be made more concise by removing \"if not addressed urgently\" as the urgency is already implied.\\n\\n4. The phrase \"immediate and drastic action\" in the second last paragraph is repetitive as both words convey a sense of urgency. Choosing one would suffice.\\n\\n5. The concluding paragraph uses the phrase \"urgent need for climate action\" which was also used in the first paragraph, repetition of such key phrases can be avoided.\\n\\nNews_2, on the other hand, maintains a consistent tone, uses precise language, and presents a balanced view of the topic, making it more aligned with the Economist style guide.'"
      ]
     },
     "execution_count": 34,
     "metadata": {},
     "output_type": "execute_result"
    }
   ],
   "source": [
    "response_comparison.choices[0].message.content"
   ]
  },
  {
   "cell_type": "code",
   "execution_count": 38,
   "metadata": {},
   "outputs": [],
   "source": [
    "response_critique = client.chat(\n",
    "        model=\"mistral-large-latest\",\n",
    "        messages=[ChatMessage(role=\"user\", content=f\"\"\"As a \"News Article Stylist\" following the Economist style guide,\n",
    "        your task is to refine and rewrite news articles to ensure they meet the high standards of clarity,\n",
    "        precision, and sophistication characteristic of the Economist.\n",
    "        You are now given a news article.\n",
    "        Read the news article carefully and point out all stylistic issues of the given news article according\n",
    "        to the Economist style guide. Do not rewrite the news article. \n",
    "        Finaly grade the news from 1 to 10 based on the level of Economist style compliance.\n",
    "        \n",
    "        <News>{news_2}</News>\n",
    "        \n",
    "        Critique:\n",
    "        \n",
    "        Grade:\"\"\")]\n",
    "    )"
   ]
  },
  {
   "cell_type": "code",
   "execution_count": 39,
   "metadata": {},
   "outputs": [
    {
     "data": {
      "text/plain": [
       "'Critique:\\n\\n1. The title is a bit sensational and could be more concise to align with the Economist\\'s style.\\n2. The phrase \"groundbreaking development\" in the first sentence is redundant and could be eliminated for clarity.\\n3. The sentence \"marking a new era of energy production\" is vague and could benefit from more specific information or data.\\n4. The phrase \"rapid transition\" could be replaced with a more precise term, such as \"shift\" or \"move.\"\\n5. The phrase \"a testament to the global commitment\" is somewhat clichéd and could be rephrased for originality.\\n6. The sentence \"The future belongs to those who invest in a sustainable and renewable energy-driven economy\" is a bit opinionated and could be rephrased to present a more neutral stance.\\n7. The article lacks direct quotes from experts or authorities, which the Economist often includes for credibility.\\n8. The article could benefit from more specific data and statistics to support its claims, especially in the paragraph discussing the transportation sector.\\n\\nGrade: 7/10\\n\\nThe article is generally well-written and informative, but it could be improved by addressing the issues mentioned above. The lack of direct quotes and specific data are the most significant areas for improvement. The article also needs to maintain a neutral tone and avoid clichés to fully comply with the Economist\\'s style guide.'"
      ]
     },
     "execution_count": 39,
     "metadata": {},
     "output_type": "execute_result"
    }
   ],
   "source": [
    "response_critique.choices[0].message.content"
   ]
  },
  {
   "cell_type": "code",
   "execution_count": 40,
   "metadata": {},
   "outputs": [],
   "source": [
    "response_critique = client.chat(\n",
    "        model=\"mistral-large-latest\",\n",
    "        messages=[ChatMessage(role=\"user\", content=f\"\"\"As a \"News Article Stylist\" following the Economist style guide,\n",
    "        your task is to refine and rewrite news articles to ensure they meet the high standards of clarity,\n",
    "        precision, and sophistication characteristic of the Economist.\n",
    "        You are now given a news article.\n",
    "        Read the news article carefully and point out all stylistic issues of the given news article according\n",
    "        to the Economist style guide. Do not rewrite the news article. \n",
    "        Finaly grade the news from 1 to 10 based on the level of Economist style compliance.\n",
    "        \n",
    "        <News>{news_1}</News>\n",
    "        \n",
    "        Critique:\n",
    "        \n",
    "        Grade:\"\"\")]\n",
    "    )"
   ]
  },
  {
   "cell_type": "code",
   "execution_count": 41,
   "metadata": {},
   "outputs": [
    {
     "data": {
      "text/plain": [
       "'The article is generally well-written and informative, but there are a few stylistic issues that need to be addressed according to the Economist style guide:\\n\\n1. The title is somewhat sensationalist. The Economist prefers more straightforward and descriptive titles that give a clear idea of the article\\'s content.\\n2. The article uses some emotive language, such as \"alarming,\" \"concerning,\" \"devastating,\" and \"catastrophic.\" The Economist prefers a more neutral and objective tone.\\n3. The article uses some clichés, such as \"wake-up call\" and \"dire consequences.\" The Economist encourages more original and precise language.\\n4. The article uses some passive voice, such as \"has been attributed\" and \"have been increasing.\" The Economist prefers active voice whenever possible.\\n5. The article uses some redundant phrases, such as \"massive destruction and loss of life\" and \"more severe and frequent disruptions.\" The Economist encourages concise and precise language.\\n6. The article uses some jargon, such as \"greenhouse gas emissions\" and \"sustainable agricultural practices.\" The Economist prefers to explain technical terms in plain English.\\n7. The article does not use any data visualization or infographics to illustrate the trends and impacts of global warming. The Economist often uses visual elements to enhance the clarity and appeal of its articles.\\n8. The article does not provide any counterarguments or alternative perspectives on climate change. The Economist values balanced and nuanced reporting.\\n\\nBased on these stylistic issues, I would grade the article a 6 out of 10 for Economist style compliance. The article provides valuable information and analysis, but it could benefit from some stylistic refinements to meet the Economist\\'s high standards of clarity, precision, and sophistication.'"
      ]
     },
     "execution_count": 41,
     "metadata": {},
     "output_type": "execute_result"
    }
   ],
   "source": [
    "response_critique.choices[0].message.content"
   ]
  },
  {
   "cell_type": "markdown",
   "metadata": {
    "id": "1xA68sx-J1Jj"
   },
   "source": [
    "## Integration with Weights and Biases\n",
    "We can also offer support for integration with Weights & Biases (W&B) to monitor and track various metrics and statistics associated with our fine-tuning jobs. To enable integration with W&B, you will need to create an account with W&B and add your W&B information in the “integrations” section in the job creation request:\n",
    "\n"
   ]
  },
  {
   "cell_type": "code",
   "execution_count": null,
   "metadata": {
    "id": "L7ZYQzZ7YcYb"
   },
   "outputs": [],
   "source": [
    "from mistralai.models.jobs import WandbIntegrationIn\n",
    "\n",
    "WANDB_API_KEY = \"XXX\"\n",
    "\n",
    "created_jobs = client.jobs.create(\n",
    "    model=\"open-mistral-7b\",\n",
    "    training_files=[ultrachat_chunk_train.id],\n",
    "    validation_files=[ultrachat_chunk_eval.id],\n",
    "    hyperparameters=TrainingParameters(\n",
    "        training_steps=100,\n",
    "        learning_rate=0.0001,\n",
    "    ),\n",
    "    integrations=[\n",
    "        WandbIntegrationIn(\n",
    "            project=\"test_ft_api\",\n",
    "            run_name=\"test\",\n",
    "            api_key=WANDB_API_KEY,\n",
    "        ).dict()\n",
    "    ],\n",
    ")"
   ]
  }
 ],
 "metadata": {
  "colab": {
   "provenance": []
  },
  "kernelspec": {
   "display_name": "Python (Poetry Mistral)",
   "language": "python",
   "name": "mistral-fine-tuning"
  },
  "language_info": {
   "codemirror_mode": {
    "name": "ipython",
    "version": 3
   },
   "file_extension": ".py",
   "mimetype": "text/x-python",
   "name": "python",
   "nbconvert_exporter": "python",
   "pygments_lexer": "ipython3",
   "version": "3.10.12"
  }
 },
 "nbformat": 4,
 "nbformat_minor": 4
}
